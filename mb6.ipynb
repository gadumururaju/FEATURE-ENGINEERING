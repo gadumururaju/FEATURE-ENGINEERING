{
 "cells": [
  {
   "cell_type": "code",
   "execution_count": 38,
   "id": "bc3fddbe",
   "metadata": {
    "scrolled": true
   },
   "outputs": [
    {
     "name": "stdout",
     "output_type": "stream",
     "text": [
      "Requirement already satisfied: tensorflow in c:\\users\\dell\\anaconda3\\lib\\site-packages (2.12.0)\n",
      "Requirement already satisfied: tensorflow-intel==2.12.0 in c:\\users\\dell\\anaconda3\\lib\\site-packages (from tensorflow) (2.12.0)\n",
      "Requirement already satisfied: wrapt<1.15,>=1.11.0 in c:\\users\\dell\\anaconda3\\lib\\site-packages (from tensorflow-intel==2.12.0->tensorflow) (1.14.1)\n",
      "Requirement already satisfied: gast<=0.4.0,>=0.2.1 in c:\\users\\dell\\anaconda3\\lib\\site-packages (from tensorflow-intel==2.12.0->tensorflow) (0.4.0)\n",
      "Requirement already satisfied: tensorboard<2.13,>=2.12 in c:\\users\\dell\\anaconda3\\lib\\site-packages (from tensorflow-intel==2.12.0->tensorflow) (2.12.1)\n",
      "Requirement already satisfied: libclang>=13.0.0 in c:\\users\\dell\\anaconda3\\lib\\site-packages (from tensorflow-intel==2.12.0->tensorflow) (16.0.0)\n",
      "Requirement already satisfied: keras<2.13,>=2.12.0 in c:\\users\\dell\\anaconda3\\lib\\site-packages (from tensorflow-intel==2.12.0->tensorflow) (2.12.0)\n",
      "Requirement already satisfied: typing-extensions>=3.6.6 in c:\\users\\dell\\anaconda3\\lib\\site-packages (from tensorflow-intel==2.12.0->tensorflow) (4.3.0)\n",
      "Requirement already satisfied: six>=1.12.0 in c:\\users\\dell\\anaconda3\\lib\\site-packages (from tensorflow-intel==2.12.0->tensorflow) (1.16.0)\n",
      "Requirement already satisfied: flatbuffers>=2.0 in c:\\users\\dell\\anaconda3\\lib\\site-packages (from tensorflow-intel==2.12.0->tensorflow) (23.3.3)\n",
      "Requirement already satisfied: packaging in c:\\users\\dell\\anaconda3\\lib\\site-packages (from tensorflow-intel==2.12.0->tensorflow) (21.3)\n",
      "Requirement already satisfied: google-pasta>=0.1.1 in c:\\users\\dell\\anaconda3\\lib\\site-packages (from tensorflow-intel==2.12.0->tensorflow) (0.2.0)\n",
      "Requirement already satisfied: termcolor>=1.1.0 in c:\\users\\dell\\anaconda3\\lib\\site-packages (from tensorflow-intel==2.12.0->tensorflow) (2.2.0)\n",
      "Requirement already satisfied: astunparse>=1.6.0 in c:\\users\\dell\\anaconda3\\lib\\site-packages (from tensorflow-intel==2.12.0->tensorflow) (1.6.3)\n",
      "Requirement already satisfied: tensorflow-io-gcs-filesystem>=0.23.1 in c:\\users\\dell\\anaconda3\\lib\\site-packages (from tensorflow-intel==2.12.0->tensorflow) (0.31.0)\n",
      "Requirement already satisfied: absl-py>=1.0.0 in c:\\users\\dell\\anaconda3\\lib\\site-packages (from tensorflow-intel==2.12.0->tensorflow) (1.4.0)\n",
      "Requirement already satisfied: h5py>=2.9.0 in c:\\users\\dell\\anaconda3\\lib\\site-packages (from tensorflow-intel==2.12.0->tensorflow) (3.7.0)\n",
      "Requirement already satisfied: tensorflow-estimator<2.13,>=2.12.0 in c:\\users\\dell\\anaconda3\\lib\\site-packages (from tensorflow-intel==2.12.0->tensorflow) (2.12.0)\n",
      "Requirement already satisfied: numpy<1.24,>=1.22 in c:\\users\\dell\\anaconda3\\lib\\site-packages (from tensorflow-intel==2.12.0->tensorflow) (1.23.5)\n",
      "Requirement already satisfied: setuptools in c:\\users\\dell\\anaconda3\\lib\\site-packages (from tensorflow-intel==2.12.0->tensorflow) (63.4.1)\n",
      "Requirement already satisfied: opt-einsum>=2.3.2 in c:\\users\\dell\\anaconda3\\lib\\site-packages (from tensorflow-intel==2.12.0->tensorflow) (3.3.0)\n",
      "Requirement already satisfied: jax>=0.3.15 in c:\\users\\dell\\anaconda3\\lib\\site-packages (from tensorflow-intel==2.12.0->tensorflow) (0.4.8)\n",
      "Requirement already satisfied: protobuf!=4.21.0,!=4.21.1,!=4.21.2,!=4.21.3,!=4.21.4,!=4.21.5,<5.0.0dev,>=3.20.3 in c:\\users\\dell\\anaconda3\\lib\\site-packages (from tensorflow-intel==2.12.0->tensorflow) (4.22.3)\n",
      "Requirement already satisfied: grpcio<2.0,>=1.24.3 in c:\\users\\dell\\anaconda3\\lib\\site-packages (from tensorflow-intel==2.12.0->tensorflow) (1.53.0)\n",
      "Requirement already satisfied: wheel<1.0,>=0.23.0 in c:\\users\\dell\\anaconda3\\lib\\site-packages (from astunparse>=1.6.0->tensorflow-intel==2.12.0->tensorflow) (0.37.1)\n",
      "Requirement already satisfied: scipy>=1.7 in c:\\users\\dell\\anaconda3\\lib\\site-packages (from jax>=0.3.15->tensorflow-intel==2.12.0->tensorflow) (1.9.1)\n",
      "Requirement already satisfied: ml-dtypes>=0.0.3 in c:\\users\\dell\\anaconda3\\lib\\site-packages (from jax>=0.3.15->tensorflow-intel==2.12.0->tensorflow) (0.1.0)\n",
      "Requirement already satisfied: tensorboard-data-server<0.8.0,>=0.7.0 in c:\\users\\dell\\anaconda3\\lib\\site-packages (from tensorboard<2.13,>=2.12->tensorflow-intel==2.12.0->tensorflow) (0.7.0)\n",
      "Requirement already satisfied: tensorboard-plugin-wit>=1.6.0 in c:\\users\\dell\\anaconda3\\lib\\site-packages (from tensorboard<2.13,>=2.12->tensorflow-intel==2.12.0->tensorflow) (1.8.1)\n",
      "Requirement already satisfied: requests<3,>=2.21.0 in c:\\users\\dell\\anaconda3\\lib\\site-packages (from tensorboard<2.13,>=2.12->tensorflow-intel==2.12.0->tensorflow) (2.28.1)\n",
      "Requirement already satisfied: werkzeug>=1.0.1 in c:\\users\\dell\\anaconda3\\lib\\site-packages (from tensorboard<2.13,>=2.12->tensorflow-intel==2.12.0->tensorflow) (2.0.3)\n",
      "Requirement already satisfied: google-auth<3,>=1.6.3 in c:\\users\\dell\\anaconda3\\lib\\site-packages (from tensorboard<2.13,>=2.12->tensorflow-intel==2.12.0->tensorflow) (2.17.3)\n",
      "Requirement already satisfied: markdown>=2.6.8 in c:\\users\\dell\\anaconda3\\lib\\site-packages (from tensorboard<2.13,>=2.12->tensorflow-intel==2.12.0->tensorflow) (3.3.4)\n",
      "Requirement already satisfied: google-auth-oauthlib<1.1,>=0.5 in c:\\users\\dell\\anaconda3\\lib\\site-packages (from tensorboard<2.13,>=2.12->tensorflow-intel==2.12.0->tensorflow) (1.0.0)\n",
      "Requirement already satisfied: pyparsing!=3.0.5,>=2.0.2 in c:\\users\\dell\\anaconda3\\lib\\site-packages (from packaging->tensorflow-intel==2.12.0->tensorflow) (3.0.9)\n",
      "Requirement already satisfied: cachetools<6.0,>=2.0.0 in c:\\users\\dell\\anaconda3\\lib\\site-packages (from google-auth<3,>=1.6.3->tensorboard<2.13,>=2.12->tensorflow-intel==2.12.0->tensorflow) (5.3.0)\n",
      "Requirement already satisfied: pyasn1-modules>=0.2.1 in c:\\users\\dell\\anaconda3\\lib\\site-packages (from google-auth<3,>=1.6.3->tensorboard<2.13,>=2.12->tensorflow-intel==2.12.0->tensorflow) (0.2.8)\n",
      "Requirement already satisfied: rsa<5,>=3.1.4 in c:\\users\\dell\\anaconda3\\lib\\site-packages (from google-auth<3,>=1.6.3->tensorboard<2.13,>=2.12->tensorflow-intel==2.12.0->tensorflow) (4.9)\n",
      "Requirement already satisfied: requests-oauthlib>=0.7.0 in c:\\users\\dell\\anaconda3\\lib\\site-packages (from google-auth-oauthlib<1.1,>=0.5->tensorboard<2.13,>=2.12->tensorflow-intel==2.12.0->tensorflow) (1.3.1)\n",
      "Requirement already satisfied: certifi>=2017.4.17 in c:\\users\\dell\\anaconda3\\lib\\site-packages (from requests<3,>=2.21.0->tensorboard<2.13,>=2.12->tensorflow-intel==2.12.0->tensorflow) (2022.12.7)\n",
      "Requirement already satisfied: urllib3<1.27,>=1.21.1 in c:\\users\\dell\\anaconda3\\lib\\site-packages (from requests<3,>=2.21.0->tensorboard<2.13,>=2.12->tensorflow-intel==2.12.0->tensorflow) (1.26.11)\n",
      "Requirement already satisfied: idna<4,>=2.5 in c:\\users\\dell\\anaconda3\\lib\\site-packages (from requests<3,>=2.21.0->tensorboard<2.13,>=2.12->tensorflow-intel==2.12.0->tensorflow) (3.3)\n",
      "Requirement already satisfied: charset-normalizer<3,>=2 in c:\\users\\dell\\anaconda3\\lib\\site-packages (from requests<3,>=2.21.0->tensorboard<2.13,>=2.12->tensorflow-intel==2.12.0->tensorflow) (2.0.4)\n",
      "Requirement already satisfied: pyasn1<0.5.0,>=0.4.6 in c:\\users\\dell\\anaconda3\\lib\\site-packages (from pyasn1-modules>=0.2.1->google-auth<3,>=1.6.3->tensorboard<2.13,>=2.12->tensorflow-intel==2.12.0->tensorflow) (0.4.8)\n",
      "Requirement already satisfied: oauthlib>=3.0.0 in c:\\users\\dell\\anaconda3\\lib\\site-packages (from requests-oauthlib>=0.7.0->google-auth-oauthlib<1.1,>=0.5->tensorboard<2.13,>=2.12->tensorflow-intel==2.12.0->tensorflow) (3.2.2)\n"
     ]
    }
   ],
   "source": [
    "!pip install tensorflow"
   ]
  },
  {
   "cell_type": "code",
   "execution_count": 39,
   "id": "c6ff1005",
   "metadata": {},
   "outputs": [],
   "source": [
    "import os\n",
    "import numpy as np\n",
    "import pandas as pd\n",
    "#import tensorflow as tf\n",
    "from tensorflow.keras import layers\n",
    "from tensorflow.keras.models import Sequential\n",
    "from tensorflow.keras.preprocessing.image import ImageDataGenerator"
   ]
  },
  {
   "cell_type": "code",
   "execution_count": 40,
   "id": "f241029d",
   "metadata": {},
   "outputs": [],
   "source": [
    "data_path=r\"C:\\Users\\DELL\\Desktop\\images\\images\""
   ]
  },
  {
   "cell_type": "code",
   "execution_count": 41,
   "id": "aacea10e",
   "metadata": {},
   "outputs": [],
   "source": [
    "image_height,image_width=64,64\n",
    "datagen=ImageDataGenerator(rescale=1./225,rotation_range=10,width_shift_range=0.1,height_shift_range=0.1,horizontal_flip=True)"
   ]
  },
  {
   "cell_type": "code",
   "execution_count": 42,
   "id": "27929396",
   "metadata": {},
   "outputs": [
    {
     "name": "stdout",
     "output_type": "stream",
     "text": [
      "Found 38267 images belonging to 9 classes.\n",
      "Found 9440 images belonging to 9 classes.\n"
     ]
    }
   ],
   "source": [
    "train_generator= datagen.flow_from_directory(\n",
    "    os.path.join(data_path,\"train\"),\n",
    "    target_size=(image_height,image_width),\n",
    "    batch_size=32,\n",
    "    class_mode=\"categorical\",\n",
    "    shuffle=True   \n",
    ")\n",
    "\n",
    "validation_generator=datagen.flow_from_directory(\n",
    "    os.path.join(data_path,\"validation\"),\n",
    "    target_size=(image_height,image_width),\n",
    "    batch_size=32,\n",
    "    class_mode=\"categorical\"\n",
    ")"
   ]
  },
  {
   "cell_type": "code",
   "execution_count": 56,
   "id": "78ebacdb",
   "metadata": {},
   "outputs": [],
   "source": [
    "from tensorflow import keras\n",
    "num_class=9\n",
    "model=keras.Sequential([\n",
    "    # In this model I am taking 3 convelutional layers\n",
    "    \n",
    "    layers.Conv2D(32,(3,3),activation=\"relu\", padding=\"valid\", input_shape=(image_height,image_width,3)),\n",
    "    layers.MaxPooling2D((2,2),strides=2),\n",
    "    layers.Conv2D(64,(3,3),activation=\"relu\",padding=\"same\"),\n",
    "    layers.MaxPooling2D((2,2),strides=2),\n",
    "    layers.Conv2D(128,(3,3),activation=\"relu\"),\n",
    "    layers.MaxPooling2D((2,2),strides=2),\n",
    "    # add more layers (flatten and Dense layers)\n",
    "    # here I am taking 3 hidden layers\n",
    "    layers.Flatten(),\n",
    "    layers.Dense(128, activation=\"relu\"),\n",
    "    layers.Dense(128,activation=\"relu\"),\n",
    "    layers.Dense(128,activation=\"relu\"),\n",
    "    layers.Dense(128,activation=\"relu\"),\n",
    "    layers.Dense(128,activation=\"relu\"),\n",
    "    # adding the Output layer to the model with 9 class of emotions\n",
    "    \n",
    "    layers.Dense(num_class,activation=\"softmax\")\n",
    "])"
   ]
  },
  {
   "cell_type": "code",
   "execution_count": 57,
   "id": "e1490bb0",
   "metadata": {},
   "outputs": [],
   "source": [
    "#model.summary()"
   ]
  },
  {
   "cell_type": "code",
   "execution_count": 58,
   "id": "21db968d",
   "metadata": {},
   "outputs": [],
   "source": [
    "#import tensorflow as tf\n",
    "optimizer= tf.keras.optimizers.Adam(\n",
    "    learning_rate=0.001\n",
    ")\n",
    "\n",
    "model.compile(\n",
    "    optimizer=optimizer,\n",
    "    loss=\"categorical_crossentropy\",\n",
    "    metrics=[\"accuracy\"]\n",
    "    \n",
    ")"
   ]
  },
  {
   "cell_type": "code",
   "execution_count": 59,
   "id": "b15bd49f",
   "metadata": {},
   "outputs": [],
   "source": [
    "early_stoping=tf.keras.callbacks.EarlyStopping(monitor=\"val_loss\",patience=10,verbose=1,restore_best_weights=False)"
   ]
  },
  {
   "cell_type": "code",
   "execution_count": 60,
   "id": "e983c832",
   "metadata": {
    "scrolled": true
   },
   "outputs": [
    {
     "name": "stdout",
     "output_type": "stream",
     "text": [
      "Epoch 1/50\n",
      "1196/1196 [==============================] - 240s 199ms/step - loss: 1.7935 - accuracy: 0.2971 - val_loss: 3.3278 - val_accuracy: 0.1251\n",
      "Epoch 2/50\n",
      "1196/1196 [==============================] - 210s 175ms/step - loss: 1.4956 - accuracy: 0.4164 - val_loss: 4.1988 - val_accuracy: 0.1242\n",
      "Epoch 3/50\n",
      "1196/1196 [==============================] - 240s 201ms/step - loss: 1.3445 - accuracy: 0.4908 - val_loss: 4.4245 - val_accuracy: 0.0541\n",
      "Epoch 4/50\n",
      "1196/1196 [==============================] - 245s 205ms/step - loss: 1.2558 - accuracy: 0.5298 - val_loss: 5.0303 - val_accuracy: 0.0750\n",
      "Epoch 5/50\n",
      "1196/1196 [==============================] - 213s 178ms/step - loss: 1.1962 - accuracy: 0.5525 - val_loss: 5.0016 - val_accuracy: 0.0559\n",
      "Epoch 6/50\n",
      "1196/1196 [==============================] - 213s 178ms/step - loss: 1.1479 - accuracy: 0.5690 - val_loss: 4.6346 - val_accuracy: 0.0513\n",
      "Epoch 7/50\n",
      "1196/1196 [==============================] - 238s 199ms/step - loss: 1.1164 - accuracy: 0.5829 - val_loss: 5.5979 - val_accuracy: 0.0533\n",
      "Epoch 8/50\n",
      "1196/1196 [==============================] - 215s 180ms/step - loss: 1.0991 - accuracy: 0.5880 - val_loss: 5.4161 - val_accuracy: 0.0629\n",
      "Epoch 9/50\n",
      "1196/1196 [==============================] - 216s 180ms/step - loss: 1.0728 - accuracy: 0.5991 - val_loss: 7.0885 - val_accuracy: 0.0578\n",
      "Epoch 10/50\n",
      "1196/1196 [==============================] - 205s 172ms/step - loss: 1.0537 - accuracy: 0.6047 - val_loss: 5.2335 - val_accuracy: 0.0575\n",
      "Epoch 11/50\n",
      "1196/1196 [==============================] - 216s 181ms/step - loss: 1.0428 - accuracy: 0.6096 - val_loss: 6.7110 - val_accuracy: 0.0712\n",
      "Epoch 12/50\n",
      "1196/1196 [==============================] - 564s 472ms/step - loss: 1.0361 - accuracy: 0.6142 - val_loss: 5.6714 - val_accuracy: 0.0510\n",
      "Epoch 13/50\n",
      "1196/1196 [==============================] - 215s 180ms/step - loss: 1.0190 - accuracy: 0.6207 - val_loss: 6.5833 - val_accuracy: 0.0482\n",
      "Epoch 14/50\n",
      "1196/1196 [==============================] - 206s 172ms/step - loss: 1.0063 - accuracy: 0.6263 - val_loss: 5.7899 - val_accuracy: 0.0439\n",
      "Epoch 15/50\n",
      "1196/1196 [==============================] - 1321s 1s/step - loss: 0.9966 - accuracy: 0.6286 - val_loss: 6.7109 - val_accuracy: 0.0521\n",
      "Epoch 16/50\n",
      "1196/1196 [==============================] - 352s 294ms/step - loss: 0.9807 - accuracy: 0.6356 - val_loss: 6.5906 - val_accuracy: 0.0620\n",
      "Epoch 17/50\n",
      "1196/1196 [==============================] - 685s 573ms/step - loss: 0.9767 - accuracy: 0.6374 - val_loss: 7.5075 - val_accuracy: 0.0451\n",
      "Epoch 18/50\n",
      "1196/1196 [==============================] - 3763s 3s/step - loss: 0.9674 - accuracy: 0.6421 - val_loss: 7.6634 - val_accuracy: 0.0480\n",
      "Epoch 19/50\n",
      "1196/1196 [==============================] - 842s 705ms/step - loss: 0.9585 - accuracy: 0.6458 - val_loss: 7.0431 - val_accuracy: 0.0633\n",
      "Epoch 20/50\n",
      "1196/1196 [==============================] - 347s 290ms/step - loss: 0.9539 - accuracy: 0.6469 - val_loss: 8.0355 - val_accuracy: 0.0437\n",
      "Epoch 21/50\n",
      "1196/1196 [==============================] - 344s 287ms/step - loss: 0.9481 - accuracy: 0.6494 - val_loss: 6.7872 - val_accuracy: 0.0528\n",
      "Epoch 22/50\n",
      "1196/1196 [==============================] - 336s 281ms/step - loss: 0.9387 - accuracy: 0.6546 - val_loss: 7.9629 - val_accuracy: 0.0553\n",
      "Epoch 23/50\n",
      "1196/1196 [==============================] - 346s 289ms/step - loss: 0.9307 - accuracy: 0.6587 - val_loss: 7.6250 - val_accuracy: 0.0450\n",
      "Epoch 24/50\n",
      "1196/1196 [==============================] - 371s 310ms/step - loss: 0.9320 - accuracy: 0.6571 - val_loss: 7.8011 - val_accuracy: 0.0449\n",
      "Epoch 25/50\n",
      "1196/1196 [==============================] - 327s 273ms/step - loss: 0.9214 - accuracy: 0.6609 - val_loss: 7.7995 - val_accuracy: 0.0474\n",
      "Epoch 26/50\n",
      "1196/1196 [==============================] - 345s 289ms/step - loss: 0.9151 - accuracy: 0.6645 - val_loss: 7.2312 - val_accuracy: 0.0444\n",
      "Epoch 27/50\n",
      "1196/1196 [==============================] - 482s 403ms/step - loss: 0.9128 - accuracy: 0.6652 - val_loss: 7.9889 - val_accuracy: 0.0542\n",
      "Epoch 28/50\n",
      "1196/1196 [==============================] - 328s 274ms/step - loss: 0.9075 - accuracy: 0.6682 - val_loss: 6.7981 - val_accuracy: 0.0475\n",
      "Epoch 29/50\n",
      "1196/1196 [==============================] - 327s 273ms/step - loss: 0.9038 - accuracy: 0.6699 - val_loss: 8.3732 - val_accuracy: 0.0409\n",
      "Epoch 30/50\n",
      "1196/1196 [==============================] - 267s 223ms/step - loss: 0.8988 - accuracy: 0.6736 - val_loss: 7.5814 - val_accuracy: 0.0411\n",
      "Epoch 31/50\n",
      "1196/1196 [==============================] - 249s 208ms/step - loss: 0.8913 - accuracy: 0.6747 - val_loss: 8.0651 - val_accuracy: 0.0535\n",
      "Epoch 32/50\n",
      "1196/1196 [==============================] - 267s 223ms/step - loss: 0.8923 - accuracy: 0.6732 - val_loss: 8.8204 - val_accuracy: 0.0547\n",
      "Epoch 33/50\n",
      "1196/1196 [==============================] - 242s 203ms/step - loss: 0.8834 - accuracy: 0.6767 - val_loss: 8.3690 - val_accuracy: 0.0498\n",
      "Epoch 34/50\n",
      "1196/1196 [==============================] - 204s 170ms/step - loss: 0.8812 - accuracy: 0.6776 - val_loss: 8.5951 - val_accuracy: 0.0480\n",
      "Epoch 35/50\n",
      "1196/1196 [==============================] - 203s 170ms/step - loss: 0.8787 - accuracy: 0.6807 - val_loss: 7.8676 - val_accuracy: 0.0466\n",
      "Epoch 36/50\n",
      "1196/1196 [==============================] - 205s 171ms/step - loss: 0.8771 - accuracy: 0.6784 - val_loss: 8.1118 - val_accuracy: 0.0462\n",
      "Epoch 37/50\n",
      "1196/1196 [==============================] - 206s 172ms/step - loss: 0.8700 - accuracy: 0.6799 - val_loss: 9.0808 - val_accuracy: 0.0432\n",
      "Epoch 38/50\n",
      "1196/1196 [==============================] - 203s 170ms/step - loss: 0.8646 - accuracy: 0.6846 - val_loss: 8.4511 - val_accuracy: 0.0463\n",
      "Epoch 39/50\n",
      "1196/1196 [==============================] - 203s 170ms/step - loss: 0.8616 - accuracy: 0.6837 - val_loss: 8.5293 - val_accuracy: 0.0530\n",
      "Epoch 40/50\n",
      "1196/1196 [==============================] - 206s 172ms/step - loss: 0.8582 - accuracy: 0.6833 - val_loss: 9.0177 - val_accuracy: 0.0490\n",
      "Epoch 41/50\n",
      "1196/1196 [==============================] - 205s 172ms/step - loss: 0.8613 - accuracy: 0.6860 - val_loss: 9.0177 - val_accuracy: 0.0520\n",
      "Epoch 42/50\n",
      "1196/1196 [==============================] - 206s 173ms/step - loss: 0.8514 - accuracy: 0.6908 - val_loss: 7.4766 - val_accuracy: 0.0480\n",
      "Epoch 43/50\n",
      "1196/1196 [==============================] - 204s 171ms/step - loss: 0.8523 - accuracy: 0.6903 - val_loss: 8.2518 - val_accuracy: 0.0424\n",
      "Epoch 44/50\n",
      "1196/1196 [==============================] - 213s 178ms/step - loss: 0.8550 - accuracy: 0.6873 - val_loss: 9.0716 - val_accuracy: 0.0522\n",
      "Epoch 45/50\n",
      "1196/1196 [==============================] - 203s 170ms/step - loss: 0.8474 - accuracy: 0.6916 - val_loss: 8.2950 - val_accuracy: 0.0489\n",
      "Epoch 46/50\n",
      "1196/1196 [==============================] - 206s 172ms/step - loss: 0.8452 - accuracy: 0.6935 - val_loss: 8.8602 - val_accuracy: 0.0512\n",
      "Epoch 47/50\n",
      "1196/1196 [==============================] - 207s 173ms/step - loss: 0.8414 - accuracy: 0.6961 - val_loss: 8.4209 - val_accuracy: 0.0475\n",
      "Epoch 48/50\n",
      "1196/1196 [==============================] - 264s 221ms/step - loss: 0.8381 - accuracy: 0.6939 - val_loss: 9.3131 - val_accuracy: 0.0507\n",
      "Epoch 49/50\n",
      "1196/1196 [==============================] - 329s 275ms/step - loss: 0.8357 - accuracy: 0.6943 - val_loss: 9.4945 - val_accuracy: 0.0495\n",
      "Epoch 50/50\n",
      "1196/1196 [==============================] - 394s 330ms/step - loss: 0.8282 - accuracy: 0.6969 - val_loss: 8.3442 - val_accuracy: 0.0468\n"
     ]
    },
    {
     "data": {
      "text/plain": [
       "<keras.callbacks.History at 0x1a00c376f40>"
      ]
     },
     "execution_count": 60,
     "metadata": {},
     "output_type": "execute_result"
    }
   ],
   "source": [
    "model.fit(train_generator,epochs=50,validation_data= validation_generator)"
   ]
  },
  {
   "cell_type": "code",
   "execution_count": 61,
   "id": "1c2d8c22",
   "metadata": {},
   "outputs": [],
   "source": [
    "model.save(\"mb6.h5\")"
   ]
  },
  {
   "cell_type": "code",
   "execution_count": null,
   "id": "f429cb6b",
   "metadata": {},
   "outputs": [],
   "source": []
  }
 ],
 "metadata": {
  "kernelspec": {
   "display_name": "Python 3 (ipykernel)",
   "language": "python",
   "name": "python3"
  },
  "language_info": {
   "codemirror_mode": {
    "name": "ipython",
    "version": 3
   },
   "file_extension": ".py",
   "mimetype": "text/x-python",
   "name": "python",
   "nbconvert_exporter": "python",
   "pygments_lexer": "ipython3",
   "version": "3.9.13"
  }
 },
 "nbformat": 4,
 "nbformat_minor": 5
}
