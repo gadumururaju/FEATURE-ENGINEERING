{
 "cells": [
  {
   "cell_type": "code",
   "execution_count": 1,
   "id": "07567fdf",
   "metadata": {},
   "outputs": [],
   "source": [
    "import os\n",
    "import numpy as np\n",
    "import pandas as pd \n",
    "import tensorflow as tf\n",
    "from tensorflow.keras import layers\n",
    "from tensorflow.keras.models import Sequential\n",
    "from tensorflow.keras.preprocessing.image import ImageDataGenerator"
   ]
  },
  {
   "cell_type": "code",
   "execution_count": 2,
   "id": "7b5dd58a",
   "metadata": {},
   "outputs": [],
   "source": [
    "data_path=r\"C:\\Users\\DELL\\Desktop\\images\\images\""
   ]
  },
  {
   "cell_type": "code",
   "execution_count": 3,
   "id": "8c4ba94b",
   "metadata": {},
   "outputs": [
    {
     "name": "stdout",
     "output_type": "stream",
     "text": [
      "<keras.preprocessing.image.ImageDataGenerator object at 0x0000012C900D4610>\n"
     ]
    }
   ],
   "source": [
    "img_height,img_width= 64,64\n",
    "datagen=ImageDataGenerator(rescale=1./225,rotation_range=20,width_shift_range=0.1,height_shift_range=0.1,horizontal_flip=True)\n",
    "print(datagen)"
   ]
  },
  {
   "cell_type": "code",
   "execution_count": 41,
   "id": "7666d7ae",
   "metadata": {},
   "outputs": [],
   "source": [
    "from tensorflow import keras\n",
    "from tensorflow.keras import layers\n",
    "num_classes=9\n",
    "model = keras.Sequential([\n",
    "    layers.Conv2D(32, (3, 3), activation=\"relu\", input_shape=(img_height, img_width, 3)),\n",
    "    layers.MaxPooling2D((2, 2)),\n",
    "    layers.Conv2D(64, (3, 3), activation=\"relu\"),\n",
    "    layers.MaxPooling2D((2, 2)),\n",
    "    layers.Conv2D(128, (3, 3), activation=\"relu\"),  # improiving the model complexiy upto 256 filters from 64\n",
    "    layers.MaxPooling2D((2, 2)),\n",
    "    layers.Conv2D(256, (3, 3), activation=\"relu\"),\n",
    "    layers.MaxPooling2D((2, 2)),\n",
    "    \n",
    "    \n",
    "    # Add more layers as needed\n",
    "    layers.Flatten(),\n",
    "    layers.Dense(128, activation=\"relu\"),\n",
    "    layers.Dense(num_classes, activation=\"softmax\")\n",
    "])\n"
   ]
  },
  {
   "cell_type": "code",
   "execution_count": 42,
   "id": "63e0a374",
   "metadata": {},
   "outputs": [
    {
     "name": "stdout",
     "output_type": "stream",
     "text": [
      "Found 17332 images belonging to 9 classes.\n",
      "Found 4204 images belonging to 9 classes.\n"
     ]
    }
   ],
   "source": [
    "train_generator = datagen.flow_from_directory(\n",
    "    os.path.join(data_path, \"train\"),\n",
    "    target_size=(img_height, img_width),\n",
    "    batch_size=32,\n",
    "    class_mode=\"categorical\",\n",
    "    shuffle=True\n",
    ")\n",
    "\n",
    "validation_generator = datagen.flow_from_directory(\n",
    "    os.path.join(data_path, \"validation\"),\n",
    "    target_size=(img_height, img_width),\n",
    "    batch_size=32,\n",
    "    class_mode=\"categorical\"\n",
    ")\n"
   ]
  },
  {
   "cell_type": "code",
   "execution_count": 43,
   "id": "37723cdb",
   "metadata": {},
   "outputs": [
    {
     "name": "stdout",
     "output_type": "stream",
     "text": [
      "(None, 64, 64, 3)\n"
     ]
    }
   ],
   "source": [
    "layers=model.layers\n",
    "print(layers[0].input_shape)\n"
   ]
  },
  {
   "cell_type": "code",
   "execution_count": 55,
   "id": "c85153d3",
   "metadata": {},
   "outputs": [],
   "source": [
    "# adding the learning rate  of optomizer\n",
    "#changing the learning rate from 0.001 to 0.0001\n",
    "# changing the learning rate from 0.0001 to 0.001\n",
    "optimizer= tf.keras.optimizers.Adam(\n",
    "    learning_rate=0.001\n",
    ")"
   ]
  },
  {
   "cell_type": "code",
   "execution_count": 56,
   "id": "1da899d0",
   "metadata": {},
   "outputs": [],
   "source": [
    "model.compile(\n",
    "    optimizer=optimizer,\n",
    "    loss=\"categorical_crossentropy\",\n",
    "    metrics=[\"accuracy\"]\n",
    ")\n"
   ]
  },
  {
   "cell_type": "code",
   "execution_count": 57,
   "id": "ac0e89e2",
   "metadata": {},
   "outputs": [],
   "source": [
    "# changing the patience from 20 to 3\n",
    "early_stopping=tf.keras.callbacks.EarlyStopping(monitor=\"val_loss\",patience=3,verbose=1,restore_best_weights=False)"
   ]
  },
  {
   "cell_type": "code",
   "execution_count": 58,
   "id": "0b51637c",
   "metadata": {},
   "outputs": [
    {
     "name": "stdout",
     "output_type": "stream",
     "text": [
      "Epoch 1/30\n",
      "542/542 [==============================] - 162s 290ms/step - loss: 1.2029 - accuracy: 0.5820 - val_loss: 35.8760 - val_accuracy: 0.0459\n",
      "Epoch 2/30\n",
      "542/542 [==============================] - 141s 260ms/step - loss: 1.1592 - accuracy: 0.5993 - val_loss: 107.8332 - val_accuracy: 0.0376\n",
      "Epoch 3/30\n",
      "542/542 [==============================] - 146s 269ms/step - loss: 1.1115 - accuracy: 0.6137 - val_loss: 111.2898 - val_accuracy: 0.0471\n",
      "Epoch 4/30\n",
      "542/542 [==============================] - 141s 260ms/step - loss: 1.0857 - accuracy: 0.6230 - val_loss: 155.9013 - val_accuracy: 0.0416\n",
      "Epoch 4: early stopping\n"
     ]
    },
    {
     "data": {
      "text/plain": [
       "<keras.callbacks.History at 0x12c9ba81850>"
      ]
     },
     "execution_count": 58,
     "metadata": {},
     "output_type": "execute_result"
    }
   ],
   "source": [
    "model.fit(train_generator,epochs=30,validation_data=validation_generator,callbacks=[early_stopping])"
   ]
  },
  {
   "cell_type": "code",
   "execution_count": 59,
   "id": "895d8fe5",
   "metadata": {},
   "outputs": [],
   "source": [
    "model.save(\"adammb3.h5\")"
   ]
  },
  {
   "cell_type": "code",
   "execution_count": null,
   "id": "e2e1a886",
   "metadata": {},
   "outputs": [],
   "source": []
  }
 ],
 "metadata": {
  "kernelspec": {
   "display_name": "Python 3 (ipykernel)",
   "language": "python",
   "name": "python3"
  },
  "language_info": {
   "codemirror_mode": {
    "name": "ipython",
    "version": 3
   },
   "file_extension": ".py",
   "mimetype": "text/x-python",
   "name": "python",
   "nbconvert_exporter": "python",
   "pygments_lexer": "ipython3",
   "version": "3.9.13"
  }
 },
 "nbformat": 4,
 "nbformat_minor": 5
}
