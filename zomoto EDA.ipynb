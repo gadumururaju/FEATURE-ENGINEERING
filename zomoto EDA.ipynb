{
 "cells": [
  {
   "cell_type": "markdown",
   "id": "554a61ee",
   "metadata": {},
   "source": [
    "zomoto dataset EDA"
   ]
  },
  {
   "cell_type": "code",
   "execution_count": 1,
   "id": "f8495914",
   "metadata": {},
   "outputs": [],
   "source": [
    "import pandas as pd\n",
    "import numpy as np\n",
    "import matplotlib.pyplot as plt\n",
    "import seaborn as sns"
   ]
  },
  {
   "cell_type": "code",
   "execution_count": 9,
   "id": "5affb9b8",
   "metadata": {},
   "outputs": [
    {
     "data": {
      "text/html": [
       "<div>\n",
       "<style scoped>\n",
       "    .dataframe tbody tr th:only-of-type {\n",
       "        vertical-align: middle;\n",
       "    }\n",
       "\n",
       "    .dataframe tbody tr th {\n",
       "        vertical-align: top;\n",
       "    }\n",
       "\n",
       "    .dataframe thead th {\n",
       "        text-align: right;\n",
       "    }\n",
       "</style>\n",
       "<table border=\"1\" class=\"dataframe\">\n",
       "  <thead>\n",
       "    <tr style=\"text-align: right;\">\n",
       "      <th></th>\n",
       "      <th>Restaurant ID</th>\n",
       "      <th>Restaurant Name</th>\n",
       "      <th>Country Code</th>\n",
       "      <th>City</th>\n",
       "      <th>Address</th>\n",
       "      <th>Locality</th>\n",
       "      <th>Locality Verbose</th>\n",
       "      <th>Longitude</th>\n",
       "      <th>Latitude</th>\n",
       "      <th>Cuisines</th>\n",
       "      <th>...</th>\n",
       "      <th>Currency</th>\n",
       "      <th>Has Table booking</th>\n",
       "      <th>Has Online delivery</th>\n",
       "      <th>Is delivering now</th>\n",
       "      <th>Switch to order menu</th>\n",
       "      <th>Price range</th>\n",
       "      <th>Aggregate rating</th>\n",
       "      <th>Rating color</th>\n",
       "      <th>Rating text</th>\n",
       "      <th>Votes</th>\n",
       "    </tr>\n",
       "  </thead>\n",
       "  <tbody>\n",
       "    <tr>\n",
       "      <th>0</th>\n",
       "      <td>6317637</td>\n",
       "      <td>Le Petit Souffle</td>\n",
       "      <td>162</td>\n",
       "      <td>Makati City</td>\n",
       "      <td>Third Floor, Century City Mall, Kalayaan Avenu...</td>\n",
       "      <td>Century City Mall, Poblacion, Makati City</td>\n",
       "      <td>Century City Mall, Poblacion, Makati City, Mak...</td>\n",
       "      <td>121.027535</td>\n",
       "      <td>14.565443</td>\n",
       "      <td>French, Japanese, Desserts</td>\n",
       "      <td>...</td>\n",
       "      <td>Botswana Pula(P)</td>\n",
       "      <td>Yes</td>\n",
       "      <td>No</td>\n",
       "      <td>No</td>\n",
       "      <td>No</td>\n",
       "      <td>3</td>\n",
       "      <td>4.8</td>\n",
       "      <td>Dark Green</td>\n",
       "      <td>Excellent</td>\n",
       "      <td>314</td>\n",
       "    </tr>\n",
       "    <tr>\n",
       "      <th>1</th>\n",
       "      <td>6304287</td>\n",
       "      <td>Izakaya Kikufuji</td>\n",
       "      <td>162</td>\n",
       "      <td>Makati City</td>\n",
       "      <td>Little Tokyo, 2277 Chino Roces Avenue, Legaspi...</td>\n",
       "      <td>Little Tokyo, Legaspi Village, Makati City</td>\n",
       "      <td>Little Tokyo, Legaspi Village, Makati City, Ma...</td>\n",
       "      <td>121.014101</td>\n",
       "      <td>14.553708</td>\n",
       "      <td>Japanese</td>\n",
       "      <td>...</td>\n",
       "      <td>Botswana Pula(P)</td>\n",
       "      <td>Yes</td>\n",
       "      <td>No</td>\n",
       "      <td>No</td>\n",
       "      <td>No</td>\n",
       "      <td>3</td>\n",
       "      <td>4.5</td>\n",
       "      <td>Dark Green</td>\n",
       "      <td>Excellent</td>\n",
       "      <td>591</td>\n",
       "    </tr>\n",
       "    <tr>\n",
       "      <th>2</th>\n",
       "      <td>6300002</td>\n",
       "      <td>Heat - Edsa Shangri-La</td>\n",
       "      <td>162</td>\n",
       "      <td>Mandaluyong City</td>\n",
       "      <td>Edsa Shangri-La, 1 Garden Way, Ortigas, Mandal...</td>\n",
       "      <td>Edsa Shangri-La, Ortigas, Mandaluyong City</td>\n",
       "      <td>Edsa Shangri-La, Ortigas, Mandaluyong City, Ma...</td>\n",
       "      <td>121.056831</td>\n",
       "      <td>14.581404</td>\n",
       "      <td>Seafood, Asian, Filipino, Indian</td>\n",
       "      <td>...</td>\n",
       "      <td>Botswana Pula(P)</td>\n",
       "      <td>Yes</td>\n",
       "      <td>No</td>\n",
       "      <td>No</td>\n",
       "      <td>No</td>\n",
       "      <td>4</td>\n",
       "      <td>4.4</td>\n",
       "      <td>Green</td>\n",
       "      <td>Very Good</td>\n",
       "      <td>270</td>\n",
       "    </tr>\n",
       "    <tr>\n",
       "      <th>3</th>\n",
       "      <td>6318506</td>\n",
       "      <td>Ooma</td>\n",
       "      <td>162</td>\n",
       "      <td>Mandaluyong City</td>\n",
       "      <td>Third Floor, Mega Fashion Hall, SM Megamall, O...</td>\n",
       "      <td>SM Megamall, Ortigas, Mandaluyong City</td>\n",
       "      <td>SM Megamall, Ortigas, Mandaluyong City, Mandal...</td>\n",
       "      <td>121.056475</td>\n",
       "      <td>14.585318</td>\n",
       "      <td>Japanese, Sushi</td>\n",
       "      <td>...</td>\n",
       "      <td>Botswana Pula(P)</td>\n",
       "      <td>No</td>\n",
       "      <td>No</td>\n",
       "      <td>No</td>\n",
       "      <td>No</td>\n",
       "      <td>4</td>\n",
       "      <td>4.9</td>\n",
       "      <td>Dark Green</td>\n",
       "      <td>Excellent</td>\n",
       "      <td>365</td>\n",
       "    </tr>\n",
       "    <tr>\n",
       "      <th>4</th>\n",
       "      <td>6314302</td>\n",
       "      <td>Sambo Kojin</td>\n",
       "      <td>162</td>\n",
       "      <td>Mandaluyong City</td>\n",
       "      <td>Third Floor, Mega Atrium, SM Megamall, Ortigas...</td>\n",
       "      <td>SM Megamall, Ortigas, Mandaluyong City</td>\n",
       "      <td>SM Megamall, Ortigas, Mandaluyong City, Mandal...</td>\n",
       "      <td>121.057508</td>\n",
       "      <td>14.584450</td>\n",
       "      <td>Japanese, Korean</td>\n",
       "      <td>...</td>\n",
       "      <td>Botswana Pula(P)</td>\n",
       "      <td>Yes</td>\n",
       "      <td>No</td>\n",
       "      <td>No</td>\n",
       "      <td>No</td>\n",
       "      <td>4</td>\n",
       "      <td>4.8</td>\n",
       "      <td>Dark Green</td>\n",
       "      <td>Excellent</td>\n",
       "      <td>229</td>\n",
       "    </tr>\n",
       "  </tbody>\n",
       "</table>\n",
       "<p>5 rows × 21 columns</p>\n",
       "</div>"
      ],
      "text/plain": [
       "   Restaurant ID         Restaurant Name  Country Code              City  \\\n",
       "0        6317637        Le Petit Souffle           162       Makati City   \n",
       "1        6304287        Izakaya Kikufuji           162       Makati City   \n",
       "2        6300002  Heat - Edsa Shangri-La           162  Mandaluyong City   \n",
       "3        6318506                    Ooma           162  Mandaluyong City   \n",
       "4        6314302             Sambo Kojin           162  Mandaluyong City   \n",
       "\n",
       "                                             Address  \\\n",
       "0  Third Floor, Century City Mall, Kalayaan Avenu...   \n",
       "1  Little Tokyo, 2277 Chino Roces Avenue, Legaspi...   \n",
       "2  Edsa Shangri-La, 1 Garden Way, Ortigas, Mandal...   \n",
       "3  Third Floor, Mega Fashion Hall, SM Megamall, O...   \n",
       "4  Third Floor, Mega Atrium, SM Megamall, Ortigas...   \n",
       "\n",
       "                                     Locality  \\\n",
       "0   Century City Mall, Poblacion, Makati City   \n",
       "1  Little Tokyo, Legaspi Village, Makati City   \n",
       "2  Edsa Shangri-La, Ortigas, Mandaluyong City   \n",
       "3      SM Megamall, Ortigas, Mandaluyong City   \n",
       "4      SM Megamall, Ortigas, Mandaluyong City   \n",
       "\n",
       "                                    Locality Verbose   Longitude   Latitude  \\\n",
       "0  Century City Mall, Poblacion, Makati City, Mak...  121.027535  14.565443   \n",
       "1  Little Tokyo, Legaspi Village, Makati City, Ma...  121.014101  14.553708   \n",
       "2  Edsa Shangri-La, Ortigas, Mandaluyong City, Ma...  121.056831  14.581404   \n",
       "3  SM Megamall, Ortigas, Mandaluyong City, Mandal...  121.056475  14.585318   \n",
       "4  SM Megamall, Ortigas, Mandaluyong City, Mandal...  121.057508  14.584450   \n",
       "\n",
       "                           Cuisines  ...          Currency Has Table booking  \\\n",
       "0        French, Japanese, Desserts  ...  Botswana Pula(P)               Yes   \n",
       "1                          Japanese  ...  Botswana Pula(P)               Yes   \n",
       "2  Seafood, Asian, Filipino, Indian  ...  Botswana Pula(P)               Yes   \n",
       "3                   Japanese, Sushi  ...  Botswana Pula(P)                No   \n",
       "4                  Japanese, Korean  ...  Botswana Pula(P)               Yes   \n",
       "\n",
       "  Has Online delivery Is delivering now Switch to order menu Price range  \\\n",
       "0                  No                No                   No           3   \n",
       "1                  No                No                   No           3   \n",
       "2                  No                No                   No           4   \n",
       "3                  No                No                   No           4   \n",
       "4                  No                No                   No           4   \n",
       "\n",
       "   Aggregate rating  Rating color Rating text Votes  \n",
       "0               4.8    Dark Green   Excellent   314  \n",
       "1               4.5    Dark Green   Excellent   591  \n",
       "2               4.4         Green   Very Good   270  \n",
       "3               4.9    Dark Green   Excellent   365  \n",
       "4               4.8    Dark Green   Excellent   229  \n",
       "\n",
       "[5 rows x 21 columns]"
      ]
     },
     "execution_count": 9,
     "metadata": {},
     "output_type": "execute_result"
    }
   ],
   "source": [
    "df=pd.read_csv(r\"C:\\Users\\DELL\\Downloads\\zomoto dataset\\zomato.csv\",encoding='latin-1')\n",
    "df.head()"
   ]
  },
  {
   "cell_type": "code",
   "execution_count": 10,
   "id": "506393db",
   "metadata": {},
   "outputs": [
    {
     "data": {
      "text/plain": [
       "Index(['Restaurant ID', 'Restaurant Name', 'Country Code', 'City', 'Address',\n",
       "       'Locality', 'Locality Verbose', 'Longitude', 'Latitude', 'Cuisines',\n",
       "       'Average Cost for two', 'Currency', 'Has Table booking',\n",
       "       'Has Online delivery', 'Is delivering now', 'Switch to order menu',\n",
       "       'Price range', 'Aggregate rating', 'Rating color', 'Rating text',\n",
       "       'Votes'],\n",
       "      dtype='object')"
      ]
     },
     "execution_count": 10,
     "metadata": {},
     "output_type": "execute_result"
    }
   ],
   "source": [
    "df.columns"
   ]
  },
  {
   "cell_type": "code",
   "execution_count": 12,
   "id": "8954d1f2",
   "metadata": {},
   "outputs": [
    {
     "name": "stdout",
     "output_type": "stream",
     "text": [
      "<class 'pandas.core.frame.DataFrame'>\n",
      "RangeIndex: 9551 entries, 0 to 9550\n",
      "Data columns (total 21 columns):\n",
      " #   Column                Non-Null Count  Dtype  \n",
      "---  ------                --------------  -----  \n",
      " 0   Restaurant ID         9551 non-null   int64  \n",
      " 1   Restaurant Name       9551 non-null   object \n",
      " 2   Country Code          9551 non-null   int64  \n",
      " 3   City                  9551 non-null   object \n",
      " 4   Address               9551 non-null   object \n",
      " 5   Locality              9551 non-null   object \n",
      " 6   Locality Verbose      9551 non-null   object \n",
      " 7   Longitude             9551 non-null   float64\n",
      " 8   Latitude              9551 non-null   float64\n",
      " 9   Cuisines              9542 non-null   object \n",
      " 10  Average Cost for two  9551 non-null   int64  \n",
      " 11  Currency              9551 non-null   object \n",
      " 12  Has Table booking     9551 non-null   object \n",
      " 13  Has Online delivery   9551 non-null   object \n",
      " 14  Is delivering now     9551 non-null   object \n",
      " 15  Switch to order menu  9551 non-null   object \n",
      " 16  Price range           9551 non-null   int64  \n",
      " 17  Aggregate rating      9551 non-null   float64\n",
      " 18  Rating color          9551 non-null   object \n",
      " 19  Rating text           9551 non-null   object \n",
      " 20  Votes                 9551 non-null   int64  \n",
      "dtypes: float64(3), int64(5), object(13)\n",
      "memory usage: 1.5+ MB\n"
     ]
    }
   ],
   "source": [
    "df.info()"
   ]
  },
  {
   "cell_type": "code",
   "execution_count": 14,
   "id": "449e87a0",
   "metadata": {},
   "outputs": [
    {
     "data": {
      "text/html": [
       "<div>\n",
       "<style scoped>\n",
       "    .dataframe tbody tr th:only-of-type {\n",
       "        vertical-align: middle;\n",
       "    }\n",
       "\n",
       "    .dataframe tbody tr th {\n",
       "        vertical-align: top;\n",
       "    }\n",
       "\n",
       "    .dataframe thead th {\n",
       "        text-align: right;\n",
       "    }\n",
       "</style>\n",
       "<table border=\"1\" class=\"dataframe\">\n",
       "  <thead>\n",
       "    <tr style=\"text-align: right;\">\n",
       "      <th></th>\n",
       "      <th>Restaurant ID</th>\n",
       "      <th>Country Code</th>\n",
       "      <th>Longitude</th>\n",
       "      <th>Latitude</th>\n",
       "      <th>Average Cost for two</th>\n",
       "      <th>Price range</th>\n",
       "      <th>Aggregate rating</th>\n",
       "      <th>Votes</th>\n",
       "    </tr>\n",
       "  </thead>\n",
       "  <tbody>\n",
       "    <tr>\n",
       "      <th>count</th>\n",
       "      <td>9.551000e+03</td>\n",
       "      <td>9551.000000</td>\n",
       "      <td>9551.000000</td>\n",
       "      <td>9551.000000</td>\n",
       "      <td>9551.000000</td>\n",
       "      <td>9551.000000</td>\n",
       "      <td>9551.000000</td>\n",
       "      <td>9551.000000</td>\n",
       "    </tr>\n",
       "    <tr>\n",
       "      <th>mean</th>\n",
       "      <td>9.051128e+06</td>\n",
       "      <td>18.365616</td>\n",
       "      <td>64.126574</td>\n",
       "      <td>25.854381</td>\n",
       "      <td>1199.210763</td>\n",
       "      <td>1.804837</td>\n",
       "      <td>2.666370</td>\n",
       "      <td>156.909748</td>\n",
       "    </tr>\n",
       "    <tr>\n",
       "      <th>std</th>\n",
       "      <td>8.791521e+06</td>\n",
       "      <td>56.750546</td>\n",
       "      <td>41.467058</td>\n",
       "      <td>11.007935</td>\n",
       "      <td>16121.183073</td>\n",
       "      <td>0.905609</td>\n",
       "      <td>1.516378</td>\n",
       "      <td>430.169145</td>\n",
       "    </tr>\n",
       "    <tr>\n",
       "      <th>min</th>\n",
       "      <td>5.300000e+01</td>\n",
       "      <td>1.000000</td>\n",
       "      <td>-157.948486</td>\n",
       "      <td>-41.330428</td>\n",
       "      <td>0.000000</td>\n",
       "      <td>1.000000</td>\n",
       "      <td>0.000000</td>\n",
       "      <td>0.000000</td>\n",
       "    </tr>\n",
       "    <tr>\n",
       "      <th>25%</th>\n",
       "      <td>3.019625e+05</td>\n",
       "      <td>1.000000</td>\n",
       "      <td>77.081343</td>\n",
       "      <td>28.478713</td>\n",
       "      <td>250.000000</td>\n",
       "      <td>1.000000</td>\n",
       "      <td>2.500000</td>\n",
       "      <td>5.000000</td>\n",
       "    </tr>\n",
       "    <tr>\n",
       "      <th>50%</th>\n",
       "      <td>6.004089e+06</td>\n",
       "      <td>1.000000</td>\n",
       "      <td>77.191964</td>\n",
       "      <td>28.570469</td>\n",
       "      <td>400.000000</td>\n",
       "      <td>2.000000</td>\n",
       "      <td>3.200000</td>\n",
       "      <td>31.000000</td>\n",
       "    </tr>\n",
       "    <tr>\n",
       "      <th>75%</th>\n",
       "      <td>1.835229e+07</td>\n",
       "      <td>1.000000</td>\n",
       "      <td>77.282006</td>\n",
       "      <td>28.642758</td>\n",
       "      <td>700.000000</td>\n",
       "      <td>2.000000</td>\n",
       "      <td>3.700000</td>\n",
       "      <td>131.000000</td>\n",
       "    </tr>\n",
       "    <tr>\n",
       "      <th>max</th>\n",
       "      <td>1.850065e+07</td>\n",
       "      <td>216.000000</td>\n",
       "      <td>174.832089</td>\n",
       "      <td>55.976980</td>\n",
       "      <td>800000.000000</td>\n",
       "      <td>4.000000</td>\n",
       "      <td>4.900000</td>\n",
       "      <td>10934.000000</td>\n",
       "    </tr>\n",
       "  </tbody>\n",
       "</table>\n",
       "</div>"
      ],
      "text/plain": [
       "       Restaurant ID  Country Code    Longitude     Latitude  \\\n",
       "count   9.551000e+03   9551.000000  9551.000000  9551.000000   \n",
       "mean    9.051128e+06     18.365616    64.126574    25.854381   \n",
       "std     8.791521e+06     56.750546    41.467058    11.007935   \n",
       "min     5.300000e+01      1.000000  -157.948486   -41.330428   \n",
       "25%     3.019625e+05      1.000000    77.081343    28.478713   \n",
       "50%     6.004089e+06      1.000000    77.191964    28.570469   \n",
       "75%     1.835229e+07      1.000000    77.282006    28.642758   \n",
       "max     1.850065e+07    216.000000   174.832089    55.976980   \n",
       "\n",
       "       Average Cost for two  Price range  Aggregate rating         Votes  \n",
       "count           9551.000000  9551.000000       9551.000000   9551.000000  \n",
       "mean            1199.210763     1.804837          2.666370    156.909748  \n",
       "std            16121.183073     0.905609          1.516378    430.169145  \n",
       "min                0.000000     1.000000          0.000000      0.000000  \n",
       "25%              250.000000     1.000000          2.500000      5.000000  \n",
       "50%              400.000000     2.000000          3.200000     31.000000  \n",
       "75%              700.000000     2.000000          3.700000    131.000000  \n",
       "max           800000.000000     4.000000          4.900000  10934.000000  "
      ]
     },
     "execution_count": 14,
     "metadata": {},
     "output_type": "execute_result"
    }
   ],
   "source": [
    "df.describe()"
   ]
  },
  {
   "cell_type": "markdown",
   "id": "dac5fad4",
   "metadata": {},
   "source": [
    "## In  data analysis what all things we do\n",
    "1. missing values\n",
    "2. Explore about the Numerical Variables\n",
    "3. Explore about the Categorical Variables\n",
    "4. Finiding Relationshios between Features"
   ]
  },
  {
   "cell_type": "code",
   "execution_count": 26,
   "id": "419faf80",
   "metadata": {},
   "outputs": [
    {
     "data": {
      "text/plain": [
       "(9551, 21)"
      ]
     },
     "execution_count": 26,
     "metadata": {},
     "output_type": "execute_result"
    }
   ],
   "source": [
    "df.shape"
   ]
  },
  {
   "cell_type": "code",
   "execution_count": 16,
   "id": "28747604",
   "metadata": {},
   "outputs": [
    {
     "data": {
      "text/plain": [
       "Restaurant ID           0\n",
       "Restaurant Name         0\n",
       "Country Code            0\n",
       "City                    0\n",
       "Address                 0\n",
       "Locality                0\n",
       "Locality Verbose        0\n",
       "Longitude               0\n",
       "Latitude                0\n",
       "Cuisines                9\n",
       "Average Cost for two    0\n",
       "Currency                0\n",
       "Has Table booking       0\n",
       "Has Online delivery     0\n",
       "Is delivering now       0\n",
       "Switch to order menu    0\n",
       "Price range             0\n",
       "Aggregate rating        0\n",
       "Rating color            0\n",
       "Rating text             0\n",
       "Votes                   0\n",
       "dtype: int64"
      ]
     },
     "execution_count": 16,
     "metadata": {},
     "output_type": "execute_result"
    }
   ],
   "source": [
    "df.isnull().sum()"
   ]
  },
  {
   "cell_type": "code",
   "execution_count": 17,
   "id": "b855a6a8",
   "metadata": {},
   "outputs": [
    {
     "data": {
      "text/plain": [
       "['Cuisines']"
      ]
     },
     "execution_count": 17,
     "metadata": {},
     "output_type": "execute_result"
    }
   ],
   "source": [
    "[features for features in df.columns if df[features].isnull().sum()>0]\n"
   ]
  },
  {
   "cell_type": "code",
   "execution_count": 24,
   "id": "09c730fc",
   "metadata": {},
   "outputs": [
    {
     "data": {
      "text/plain": [
       "<AxesSubplot:>"
      ]
     },
     "execution_count": 24,
     "metadata": {},
     "output_type": "execute_result"
    },
    {
     "data": {
      "image/png": "[encoded data removed]",
      "text/plain": [
       "<Figure size 640x480 with 1 Axes>"
      ]
     },
     "metadata": {},
     "output_type": "display_data"
    }
   ],
   "source": [
    "sns.heatmap(df.isnull(),yticklabels=False,cbar=False,cmap='viridis')"
   ]
  },
  {
   "cell_type": "code",
   "execution_count": 30,
   "id": "eb660ef4",
   "metadata": {},
   "outputs": [
    {
     "data": {
      "text/html": [
       "<div>\n",
       "<style scoped>\n",
       "    .dataframe tbody tr th:only-of-type {\n",
       "        vertical-align: middle;\n",
       "    }\n",
       "\n",
       "    .dataframe tbody tr th {\n",
       "        vertical-align: top;\n",
       "    }\n",
       "\n",
       "    .dataframe thead th {\n",
       "        text-align: right;\n",
       "    }\n",
       "</style>\n",
       "<table border=\"1\" class=\"dataframe\">\n",
       "  <thead>\n",
       "    <tr style=\"text-align: right;\">\n",
       "      <th></th>\n",
       "      <th>Country Code</th>\n",
       "      <th>Country</th>\n",
       "    </tr>\n",
       "  </thead>\n",
       "  <tbody>\n",
       "    <tr>\n",
       "      <th>0</th>\n",
       "      <td>1</td>\n",
       "      <td>India</td>\n",
       "    </tr>\n",
       "    <tr>\n",
       "      <th>1</th>\n",
       "      <td>14</td>\n",
       "      <td>Australia</td>\n",
       "    </tr>\n",
       "    <tr>\n",
       "      <th>2</th>\n",
       "      <td>30</td>\n",
       "      <td>Brazil</td>\n",
       "    </tr>\n",
       "    <tr>\n",
       "      <th>3</th>\n",
       "      <td>37</td>\n",
       "      <td>Canada</td>\n",
       "    </tr>\n",
       "    <tr>\n",
       "      <th>4</th>\n",
       "      <td>94</td>\n",
       "      <td>Indonesia</td>\n",
       "    </tr>\n",
       "  </tbody>\n",
       "</table>\n",
       "</div>"
      ],
      "text/plain": [
       "   Country Code    Country\n",
       "0             1      India\n",
       "1            14  Australia\n",
       "2            30     Brazil\n",
       "3            37     Canada\n",
       "4            94  Indonesia"
      ]
     },
     "execution_count": 30,
     "metadata": {},
     "output_type": "execute_result"
    }
   ],
   "source": [
    "df_country=pd.read_excel(r\"C:\\Users\\DELL\\Downloads\\zomoto dataset\\Country-Code.xlsx\")\n",
    "df_country.head()"
   ]
  },
  {
   "cell_type": "code",
   "execution_count": 32,
   "id": "773084b3",
   "metadata": {
    "scrolled": true
   },
   "outputs": [
    {
     "data": {
      "text/html": [
       "<div>\n",
       "<style scoped>\n",
       "    .dataframe tbody tr th:only-of-type {\n",
       "        vertical-align: middle;\n",
       "    }\n",
       "\n",
       "    .dataframe tbody tr th {\n",
       "        vertical-align: top;\n",
       "    }\n",
       "\n",
       "    .dataframe thead th {\n",
       "        text-align: right;\n",
       "    }\n",
       "</style>\n",
       "<table border=\"1\" class=\"dataframe\">\n",
       "  <thead>\n",
       "    <tr style=\"text-align: right;\">\n",
       "      <th></th>\n",
       "      <th>Restaurant ID</th>\n",
       "      <th>Restaurant Name</th>\n",
       "      <th>Country Code</th>\n",
       "      <th>City</th>\n",
       "      <th>Address</th>\n",
       "      <th>Locality</th>\n",
       "      <th>Locality Verbose</th>\n",
       "      <th>Longitude</th>\n",
       "      <th>Latitude</th>\n",
       "      <th>Cuisines</th>\n",
       "      <th>...</th>\n",
       "      <th>Has Table booking</th>\n",
       "      <th>Has Online delivery</th>\n",
       "      <th>Is delivering now</th>\n",
       "      <th>Switch to order menu</th>\n",
       "      <th>Price range</th>\n",
       "      <th>Aggregate rating</th>\n",
       "      <th>Rating color</th>\n",
       "      <th>Rating text</th>\n",
       "      <th>Votes</th>\n",
       "      <th>Country</th>\n",
       "    </tr>\n",
       "  </thead>\n",
       "  <tbody>\n",
       "    <tr>\n",
       "      <th>0</th>\n",
       "      <td>6317637</td>\n",
       "      <td>Le Petit Souffle</td>\n",
       "      <td>162</td>\n",
       "      <td>Makati City</td>\n",
       "      <td>Third Floor, Century City Mall, Kalayaan Avenu...</td>\n",
       "      <td>Century City Mall, Poblacion, Makati City</td>\n",
       "      <td>Century City Mall, Poblacion, Makati City, Mak...</td>\n",
       "      <td>121.027535</td>\n",
       "      <td>14.565443</td>\n",
       "      <td>French, Japanese, Desserts</td>\n",
       "      <td>...</td>\n",
       "      <td>Yes</td>\n",
       "      <td>No</td>\n",
       "      <td>No</td>\n",
       "      <td>No</td>\n",
       "      <td>3</td>\n",
       "      <td>4.8</td>\n",
       "      <td>Dark Green</td>\n",
       "      <td>Excellent</td>\n",
       "      <td>314</td>\n",
       "      <td>Phillipines</td>\n",
       "    </tr>\n",
       "    <tr>\n",
       "      <th>1</th>\n",
       "      <td>6304287</td>\n",
       "      <td>Izakaya Kikufuji</td>\n",
       "      <td>162</td>\n",
       "      <td>Makati City</td>\n",
       "      <td>Little Tokyo, 2277 Chino Roces Avenue, Legaspi...</td>\n",
       "      <td>Little Tokyo, Legaspi Village, Makati City</td>\n",
       "      <td>Little Tokyo, Legaspi Village, Makati City, Ma...</td>\n",
       "      <td>121.014101</td>\n",
       "      <td>14.553708</td>\n",
       "      <td>Japanese</td>\n",
       "      <td>...</td>\n",
       "      <td>Yes</td>\n",
       "      <td>No</td>\n",
       "      <td>No</td>\n",
       "      <td>No</td>\n",
       "      <td>3</td>\n",
       "      <td>4.5</td>\n",
       "      <td>Dark Green</td>\n",
       "      <td>Excellent</td>\n",
       "      <td>591</td>\n",
       "      <td>Phillipines</td>\n",
       "    </tr>\n",
       "    <tr>\n",
       "      <th>2</th>\n",
       "      <td>6300002</td>\n",
       "      <td>Heat - Edsa Shangri-La</td>\n",
       "      <td>162</td>\n",
       "      <td>Mandaluyong City</td>\n",
       "      <td>Edsa Shangri-La, 1 Garden Way, Ortigas, Mandal...</td>\n",
       "      <td>Edsa Shangri-La, Ortigas, Mandaluyong City</td>\n",
       "      <td>Edsa Shangri-La, Ortigas, Mandaluyong City, Ma...</td>\n",
       "      <td>121.056831</td>\n",
       "      <td>14.581404</td>\n",
       "      <td>Seafood, Asian, Filipino, Indian</td>\n",
       "      <td>...</td>\n",
       "      <td>Yes</td>\n",
       "      <td>No</td>\n",
       "      <td>No</td>\n",
       "      <td>No</td>\n",
       "      <td>4</td>\n",
       "      <td>4.4</td>\n",
       "      <td>Green</td>\n",
       "      <td>Very Good</td>\n",
       "      <td>270</td>\n",
       "      <td>Phillipines</td>\n",
       "    </tr>\n",
       "    <tr>\n",
       "      <th>3</th>\n",
       "      <td>6318506</td>\n",
       "      <td>Ooma</td>\n",
       "      <td>162</td>\n",
       "      <td>Mandaluyong City</td>\n",
       "      <td>Third Floor, Mega Fashion Hall, SM Megamall, O...</td>\n",
       "      <td>SM Megamall, Ortigas, Mandaluyong City</td>\n",
       "      <td>SM Megamall, Ortigas, Mandaluyong City, Mandal...</td>\n",
       "      <td>121.056475</td>\n",
       "      <td>14.585318</td>\n",
       "      <td>Japanese, Sushi</td>\n",
       "      <td>...</td>\n",
       "      <td>No</td>\n",
       "      <td>No</td>\n",
       "      <td>No</td>\n",
       "      <td>No</td>\n",
       "      <td>4</td>\n",
       "      <td>4.9</td>\n",
       "      <td>Dark Green</td>\n",
       "      <td>Excellent</td>\n",
       "      <td>365</td>\n",
       "      <td>Phillipines</td>\n",
       "    </tr>\n",
       "    <tr>\n",
       "      <th>4</th>\n",
       "      <td>6314302</td>\n",
       "      <td>Sambo Kojin</td>\n",
       "      <td>162</td>\n",
       "      <td>Mandaluyong City</td>\n",
       "      <td>Third Floor, Mega Atrium, SM Megamall, Ortigas...</td>\n",
       "      <td>SM Megamall, Ortigas, Mandaluyong City</td>\n",
       "      <td>SM Megamall, Ortigas, Mandaluyong City, Mandal...</td>\n",
       "      <td>121.057508</td>\n",
       "      <td>14.584450</td>\n",
       "      <td>Japanese, Korean</td>\n",
       "      <td>...</td>\n",
       "      <td>Yes</td>\n",
       "      <td>No</td>\n",
       "      <td>No</td>\n",
       "      <td>No</td>\n",
       "      <td>4</td>\n",
       "      <td>4.8</td>\n",
       "      <td>Dark Green</td>\n",
       "      <td>Excellent</td>\n",
       "      <td>229</td>\n",
       "      <td>Phillipines</td>\n",
       "    </tr>\n",
       "  </tbody>\n",
       "</table>\n",
       "<p>5 rows × 22 columns</p>\n",
       "</div>"
      ],
      "text/plain": [
       "   Restaurant ID         Restaurant Name  Country Code              City  \\\n",
       "0        6317637        Le Petit Souffle           162       Makati City   \n",
       "1        6304287        Izakaya Kikufuji           162       Makati City   \n",
       "2        6300002  Heat - Edsa Shangri-La           162  Mandaluyong City   \n",
       "3        6318506                    Ooma           162  Mandaluyong City   \n",
       "4        6314302             Sambo Kojin           162  Mandaluyong City   \n",
       "\n",
       "                                             Address  \\\n",
       "0  Third Floor, Century City Mall, Kalayaan Avenu...   \n",
       "1  Little Tokyo, 2277 Chino Roces Avenue, Legaspi...   \n",
       "2  Edsa Shangri-La, 1 Garden Way, Ortigas, Mandal...   \n",
       "3  Third Floor, Mega Fashion Hall, SM Megamall, O...   \n",
       "4  Third Floor, Mega Atrium, SM Megamall, Ortigas...   \n",
       "\n",
       "                                     Locality  \\\n",
       "0   Century City Mall, Poblacion, Makati City   \n",
       "1  Little Tokyo, Legaspi Village, Makati City   \n",
       "2  Edsa Shangri-La, Ortigas, Mandaluyong City   \n",
       "3      SM Megamall, Ortigas, Mandaluyong City   \n",
       "4      SM Megamall, Ortigas, Mandaluyong City   \n",
       "\n",
       "                                    Locality Verbose   Longitude   Latitude  \\\n",
       "0  Century City Mall, Poblacion, Makati City, Mak...  121.027535  14.565443   \n",
       "1  Little Tokyo, Legaspi Village, Makati City, Ma...  121.014101  14.553708   \n",
       "2  Edsa Shangri-La, Ortigas, Mandaluyong City, Ma...  121.056831  14.581404   \n",
       "3  SM Megamall, Ortigas, Mandaluyong City, Mandal...  121.056475  14.585318   \n",
       "4  SM Megamall, Ortigas, Mandaluyong City, Mandal...  121.057508  14.584450   \n",
       "\n",
       "                           Cuisines  ...  Has Table booking  \\\n",
       "0        French, Japanese, Desserts  ...                Yes   \n",
       "1                          Japanese  ...                Yes   \n",
       "2  Seafood, Asian, Filipino, Indian  ...                Yes   \n",
       "3                   Japanese, Sushi  ...                 No   \n",
       "4                  Japanese, Korean  ...                Yes   \n",
       "\n",
       "  Has Online delivery Is delivering now Switch to order menu Price range  \\\n",
       "0                  No                No                   No           3   \n",
       "1                  No                No                   No           3   \n",
       "2                  No                No                   No           4   \n",
       "3                  No                No                   No           4   \n",
       "4                  No                No                   No           4   \n",
       "\n",
       "  Aggregate rating  Rating color  Rating text Votes      Country  \n",
       "0              4.8    Dark Green    Excellent   314  Phillipines  \n",
       "1              4.5    Dark Green    Excellent   591  Phillipines  \n",
       "2              4.4         Green    Very Good   270  Phillipines  \n",
       "3              4.9    Dark Green    Excellent   365  Phillipines  \n",
       "4              4.8    Dark Green    Excellent   229  Phillipines  \n",
       "\n",
       "[5 rows x 22 columns]"
      ]
     },
     "execution_count": 32,
     "metadata": {},
     "output_type": "execute_result"
    }
   ],
   "source": [
    "final_df=pd.merge(df,df_country,on='Country Code',how='left')\n",
    "final_df.head()"
   ]
  },
  {
   "cell_type": "code",
   "execution_count": 33,
   "id": "1a74c590",
   "metadata": {},
   "outputs": [
    {
     "data": {
      "text/plain": [
       "Restaurant ID             int64\n",
       "Restaurant Name          object\n",
       "Country Code              int64\n",
       "City                     object\n",
       "Address                  object\n",
       "Locality                 object\n",
       "Locality Verbose         object\n",
       "Longitude               float64\n",
       "Latitude                float64\n",
       "Cuisines                 object\n",
       "Average Cost for two      int64\n",
       "Currency                 object\n",
       "Has Table booking        object\n",
       "Has Online delivery      object\n",
       "Is delivering now        object\n",
       "Switch to order menu     object\n",
       "Price range               int64\n",
       "Aggregate rating        float64\n",
       "Rating color             object\n",
       "Rating text              object\n",
       "Votes                     int64\n",
       "Country                  object\n",
       "dtype: object"
      ]
     },
     "execution_count": 33,
     "metadata": {},
     "output_type": "execute_result"
    }
   ],
   "source": [
    "## To Check DataTypes\n",
    "final_df.dtypes"
   ]
  },
  {
   "cell_type": "code",
   "execution_count": 49,
   "id": "92fbf758",
   "metadata": {},
   "outputs": [],
   "source": [
    "countryname=final_df.Country.value_counts().index"
   ]
  },
  {
   "cell_type": "code",
   "execution_count": 50,
   "id": "9f6c56e9",
   "metadata": {},
   "outputs": [],
   "source": [
    "country_values=final_df.Country.value_counts().values"
   ]
  },
  {
   "cell_type": "code",
   "execution_count": 51,
   "id": "9bdd3dae",
   "metadata": {},
   "outputs": [
    {
     "data": {
      "text/plain": [
       "([<matplotlib.patches.Wedge at 0x20062457c10>,\n",
       "  <matplotlib.patches.Wedge at 0x20062465370>,\n",
       "  <matplotlib.patches.Wedge at 0x20062465a90>],\n",
       " [Text(-1.0829742700952103, 0.19278674827836725, 'India'),\n",
       "  Text(1.077281715838356, -0.22240527134123297, 'United States'),\n",
       "  Text(1.0995865153823035, -0.03015783794312073, 'United Kingdom')],\n",
       " [Text(-0.590713238233751, 0.10515640815183668, '94.39%'),\n",
       "  Text(0.5876082086391032, -0.12131196618612707, '4.73%'),\n",
       "  Text(0.5997744629358018, -0.01644972978715676, '0.87%')])"
      ]
     },
     "execution_count": 51,
     "metadata": {},
     "output_type": "execute_result"
    },
    {
     "data": {
      "image/png": "[encoded data removed]",
      "text/plain": [
       "<Figure size 640x480 with 1 Axes>"
      ]
     },
     "metadata": {},
     "output_type": "display_data"
    }
   ],
   "source": [
    "## pie charts top 3 counties that are using zomoto\n",
    "plt.pie(country_values[:3],labels=countryname[:3],autopct='%1.2f%%')"
   ]
  },
  {
   "cell_type": "markdown",
   "id": "7eef35b6",
   "metadata": {},
   "source": [
    "Observations:zomoto maximaum records/transactin are from inda after that usa and then united kingdom"
   ]
  },
  {
   "cell_type": "code",
   "execution_count": 57,
   "id": "e0286c7f",
   "metadata": {},
   "outputs": [
    {
     "data": {
      "text/html": [
       "<div>\n",
       "<style scoped>\n",
       "    .dataframe tbody tr th:only-of-type {\n",
       "        vertical-align: middle;\n",
       "    }\n",
       "\n",
       "    .dataframe tbody tr th {\n",
       "        vertical-align: top;\n",
       "    }\n",
       "\n",
       "    .dataframe thead th {\n",
       "        text-align: right;\n",
       "    }\n",
       "</style>\n",
       "<table border=\"1\" class=\"dataframe\">\n",
       "  <thead>\n",
       "    <tr style=\"text-align: right;\">\n",
       "      <th></th>\n",
       "      <th>Aggregate rating</th>\n",
       "      <th>Rating color</th>\n",
       "      <th>Rating text</th>\n",
       "      <th>Rating count</th>\n",
       "    </tr>\n",
       "  </thead>\n",
       "  <tbody>\n",
       "    <tr>\n",
       "      <th>0</th>\n",
       "      <td>0.0</td>\n",
       "      <td>White</td>\n",
       "      <td>Not rated</td>\n",
       "      <td>2148</td>\n",
       "    </tr>\n",
       "    <tr>\n",
       "      <th>1</th>\n",
       "      <td>1.8</td>\n",
       "      <td>Red</td>\n",
       "      <td>Poor</td>\n",
       "      <td>1</td>\n",
       "    </tr>\n",
       "    <tr>\n",
       "      <th>2</th>\n",
       "      <td>1.9</td>\n",
       "      <td>Red</td>\n",
       "      <td>Poor</td>\n",
       "      <td>2</td>\n",
       "    </tr>\n",
       "    <tr>\n",
       "      <th>3</th>\n",
       "      <td>2.0</td>\n",
       "      <td>Red</td>\n",
       "      <td>Poor</td>\n",
       "      <td>7</td>\n",
       "    </tr>\n",
       "    <tr>\n",
       "      <th>4</th>\n",
       "      <td>2.1</td>\n",
       "      <td>Red</td>\n",
       "      <td>Poor</td>\n",
       "      <td>15</td>\n",
       "    </tr>\n",
       "    <tr>\n",
       "      <th>5</th>\n",
       "      <td>2.2</td>\n",
       "      <td>Red</td>\n",
       "      <td>Poor</td>\n",
       "      <td>27</td>\n",
       "    </tr>\n",
       "    <tr>\n",
       "      <th>6</th>\n",
       "      <td>2.3</td>\n",
       "      <td>Red</td>\n",
       "      <td>Poor</td>\n",
       "      <td>47</td>\n",
       "    </tr>\n",
       "    <tr>\n",
       "      <th>7</th>\n",
       "      <td>2.4</td>\n",
       "      <td>Red</td>\n",
       "      <td>Poor</td>\n",
       "      <td>87</td>\n",
       "    </tr>\n",
       "    <tr>\n",
       "      <th>8</th>\n",
       "      <td>2.5</td>\n",
       "      <td>Orange</td>\n",
       "      <td>Average</td>\n",
       "      <td>110</td>\n",
       "    </tr>\n",
       "    <tr>\n",
       "      <th>9</th>\n",
       "      <td>2.6</td>\n",
       "      <td>Orange</td>\n",
       "      <td>Average</td>\n",
       "      <td>191</td>\n",
       "    </tr>\n",
       "    <tr>\n",
       "      <th>10</th>\n",
       "      <td>2.7</td>\n",
       "      <td>Orange</td>\n",
       "      <td>Average</td>\n",
       "      <td>250</td>\n",
       "    </tr>\n",
       "    <tr>\n",
       "      <th>11</th>\n",
       "      <td>2.8</td>\n",
       "      <td>Orange</td>\n",
       "      <td>Average</td>\n",
       "      <td>315</td>\n",
       "    </tr>\n",
       "    <tr>\n",
       "      <th>12</th>\n",
       "      <td>2.9</td>\n",
       "      <td>Orange</td>\n",
       "      <td>Average</td>\n",
       "      <td>381</td>\n",
       "    </tr>\n",
       "    <tr>\n",
       "      <th>13</th>\n",
       "      <td>3.0</td>\n",
       "      <td>Orange</td>\n",
       "      <td>Average</td>\n",
       "      <td>468</td>\n",
       "    </tr>\n",
       "    <tr>\n",
       "      <th>14</th>\n",
       "      <td>3.1</td>\n",
       "      <td>Orange</td>\n",
       "      <td>Average</td>\n",
       "      <td>519</td>\n",
       "    </tr>\n",
       "    <tr>\n",
       "      <th>15</th>\n",
       "      <td>3.2</td>\n",
       "      <td>Orange</td>\n",
       "      <td>Average</td>\n",
       "      <td>522</td>\n",
       "    </tr>\n",
       "    <tr>\n",
       "      <th>16</th>\n",
       "      <td>3.3</td>\n",
       "      <td>Orange</td>\n",
       "      <td>Average</td>\n",
       "      <td>483</td>\n",
       "    </tr>\n",
       "    <tr>\n",
       "      <th>17</th>\n",
       "      <td>3.4</td>\n",
       "      <td>Orange</td>\n",
       "      <td>Average</td>\n",
       "      <td>498</td>\n",
       "    </tr>\n",
       "    <tr>\n",
       "      <th>18</th>\n",
       "      <td>3.5</td>\n",
       "      <td>Yellow</td>\n",
       "      <td>Good</td>\n",
       "      <td>480</td>\n",
       "    </tr>\n",
       "    <tr>\n",
       "      <th>19</th>\n",
       "      <td>3.6</td>\n",
       "      <td>Yellow</td>\n",
       "      <td>Good</td>\n",
       "      <td>458</td>\n",
       "    </tr>\n",
       "    <tr>\n",
       "      <th>20</th>\n",
       "      <td>3.7</td>\n",
       "      <td>Yellow</td>\n",
       "      <td>Good</td>\n",
       "      <td>427</td>\n",
       "    </tr>\n",
       "    <tr>\n",
       "      <th>21</th>\n",
       "      <td>3.8</td>\n",
       "      <td>Yellow</td>\n",
       "      <td>Good</td>\n",
       "      <td>400</td>\n",
       "    </tr>\n",
       "    <tr>\n",
       "      <th>22</th>\n",
       "      <td>3.9</td>\n",
       "      <td>Yellow</td>\n",
       "      <td>Good</td>\n",
       "      <td>335</td>\n",
       "    </tr>\n",
       "    <tr>\n",
       "      <th>23</th>\n",
       "      <td>4.0</td>\n",
       "      <td>Green</td>\n",
       "      <td>Very Good</td>\n",
       "      <td>266</td>\n",
       "    </tr>\n",
       "    <tr>\n",
       "      <th>24</th>\n",
       "      <td>4.1</td>\n",
       "      <td>Green</td>\n",
       "      <td>Very Good</td>\n",
       "      <td>274</td>\n",
       "    </tr>\n",
       "    <tr>\n",
       "      <th>25</th>\n",
       "      <td>4.2</td>\n",
       "      <td>Green</td>\n",
       "      <td>Very Good</td>\n",
       "      <td>221</td>\n",
       "    </tr>\n",
       "    <tr>\n",
       "      <th>26</th>\n",
       "      <td>4.3</td>\n",
       "      <td>Green</td>\n",
       "      <td>Very Good</td>\n",
       "      <td>174</td>\n",
       "    </tr>\n",
       "    <tr>\n",
       "      <th>27</th>\n",
       "      <td>4.4</td>\n",
       "      <td>Green</td>\n",
       "      <td>Very Good</td>\n",
       "      <td>144</td>\n",
       "    </tr>\n",
       "    <tr>\n",
       "      <th>28</th>\n",
       "      <td>4.5</td>\n",
       "      <td>Dark Green</td>\n",
       "      <td>Excellent</td>\n",
       "      <td>95</td>\n",
       "    </tr>\n",
       "    <tr>\n",
       "      <th>29</th>\n",
       "      <td>4.6</td>\n",
       "      <td>Dark Green</td>\n",
       "      <td>Excellent</td>\n",
       "      <td>78</td>\n",
       "    </tr>\n",
       "    <tr>\n",
       "      <th>30</th>\n",
       "      <td>4.7</td>\n",
       "      <td>Dark Green</td>\n",
       "      <td>Excellent</td>\n",
       "      <td>42</td>\n",
       "    </tr>\n",
       "    <tr>\n",
       "      <th>31</th>\n",
       "      <td>4.8</td>\n",
       "      <td>Dark Green</td>\n",
       "      <td>Excellent</td>\n",
       "      <td>25</td>\n",
       "    </tr>\n",
       "    <tr>\n",
       "      <th>32</th>\n",
       "      <td>4.9</td>\n",
       "      <td>Dark Green</td>\n",
       "      <td>Excellent</td>\n",
       "      <td>61</td>\n",
       "    </tr>\n",
       "  </tbody>\n",
       "</table>\n",
       "</div>"
      ],
      "text/plain": [
       "    Aggregate rating Rating color Rating text  Rating count\n",
       "0                0.0        White   Not rated          2148\n",
       "1                1.8          Red        Poor             1\n",
       "2                1.9          Red        Poor             2\n",
       "3                2.0          Red        Poor             7\n",
       "4                2.1          Red        Poor            15\n",
       "5                2.2          Red        Poor            27\n",
       "6                2.3          Red        Poor            47\n",
       "7                2.4          Red        Poor            87\n",
       "8                2.5       Orange     Average           110\n",
       "9                2.6       Orange     Average           191\n",
       "10               2.7       Orange     Average           250\n",
       "11               2.8       Orange     Average           315\n",
       "12               2.9       Orange     Average           381\n",
       "13               3.0       Orange     Average           468\n",
       "14               3.1       Orange     Average           519\n",
       "15               3.2       Orange     Average           522\n",
       "16               3.3       Orange     Average           483\n",
       "17               3.4       Orange     Average           498\n",
       "18               3.5       Yellow        Good           480\n",
       "19               3.6       Yellow        Good           458\n",
       "20               3.7       Yellow        Good           427\n",
       "21               3.8       Yellow        Good           400\n",
       "22               3.9       Yellow        Good           335\n",
       "23               4.0        Green   Very Good           266\n",
       "24               4.1        Green   Very Good           274\n",
       "25               4.2        Green   Very Good           221\n",
       "26               4.3        Green   Very Good           174\n",
       "27               4.4        Green   Very Good           144\n",
       "28               4.5   Dark Green   Excellent            95\n",
       "29               4.6   Dark Green   Excellent            78\n",
       "30               4.7   Dark Green   Excellent            42\n",
       "31               4.8   Dark Green   Excellent            25\n",
       "32               4.9   Dark Green   Excellent            61"
      ]
     },
     "execution_count": 57,
     "metadata": {},
     "output_type": "execute_result"
    }
   ],
   "source": [
    "final_df.groupby(['Aggregate rating','Rating color','Rating text']).size().reset_index().rename(columns={0:'Rating count'})"
   ]
  },
  {
   "cell_type": "code",
   "execution_count": 58,
   "id": "fa9ed89a",
   "metadata": {},
   "outputs": [],
   "source": [
    "ratings=final_df.groupby(['Aggregate rating','Rating color','Rating text']).size().reset_index().rename(columns={0:'Rating count'})"
   ]
  },
  {
   "cell_type": "markdown",
   "id": "a3b232c3",
   "metadata": {},
   "source": [
    "## Conclusions/ Observations\n",
    "1. When Rating is between 4.5 to 4.9 --------->Excellant\n",
    "2. When Rating is between 4.0 to 4.4 ---------> Very Good\n",
    "3. When Rating is between 3.5 to 3.9 ---------> Good\n",
    "4. When Rating is between 2.5 to 3.4 ---------> Average\n",
    "5. When Rating is between 1.8 to 2.4 ---------> Poor\n",
    "6. When Rating is 0.0  -----------------------> its not given Rating"
   ]
  },
  {
   "cell_type": "code",
   "execution_count": 64,
   "id": "6ccb7fe4",
   "metadata": {},
   "outputs": [
    {
     "data": {
      "text/plain": [
       "<AxesSubplot:xlabel='Aggregate rating', ylabel='Rating count'>"
      ]
     },
     "execution_count": 64,
     "metadata": {},
     "output_type": "execute_result"
    },
    {
     "data": {
      "image/png": "[encoded data removed]",
      "text/plain": [
       "<Figure size 640x480 with 1 Axes>"
      ]
     },
     "metadata": {},
     "output_type": "display_data"
    }
   ],
   "source": [
    "sns.barplot(x='Aggregate rating',y='Rating count',data=ratings)"
   ]
  },
  {
   "cell_type": "code",
   "execution_count": 69,
   "id": "88beb53e",
   "metadata": {
    "scrolled": false
   },
   "outputs": [
    {
     "data": {
      "text/plain": [
       "<AxesSubplot:xlabel='Aggregate rating', ylabel='Rating count'>"
      ]
     },
     "execution_count": 69,
     "metadata": {},
     "output_type": "execute_result"
    },
    {
     "data": {
      "image/png": "[encoded data removed]",
      "text/plain": [
       "<Figure size 1200x600 with 1 Axes>"
      ]
     },
     "metadata": {},
     "output_type": "display_data"
    }
   ],
   "source": [
    "%matplotlib inline\n",
    "import matplotlib\n",
    "matplotlib.rcParams['figure.figsize']=(12,6)\n",
    "sns.barplot(x='Aggregate rating',y='Rating count',data=ratings)"
   ]
  },
  {
   "cell_type": "code",
   "execution_count": 74,
   "id": "73a44653",
   "metadata": {},
   "outputs": [
    {
     "data": {
      "text/plain": [
       "<AxesSubplot:xlabel='Aggregate rating', ylabel='Rating count'>"
      ]
     },
     "execution_count": 74,
     "metadata": {},
     "output_type": "execute_result"
    },
    {
     "data": {
      "image/png": "[encoded data removed]",
      "text/plain": [
       "<Figure size 1200x600 with 1 Axes>"
      ]
     },
     "metadata": {},
     "output_type": "display_data"
    }
   ],
   "source": [
    "sns.barplot(x='Aggregate rating',y='Rating count',hue='Rating color',data=ratings,palette=['blue','red','orange','yellow','green','green'])"
   ]
  },
  {
   "cell_type": "markdown",
   "id": "d795a208",
   "metadata": {},
   "source": [
    "Obserations:\n",
    "1. Not Rating couont is very high\n",
    "2. Maximam number of Rating are between 2.9 to 3.5"
   ]
  },
  {
   "cell_type": "code",
   "execution_count": 75,
   "id": "8dbcce1a",
   "metadata": {},
   "outputs": [
    {
     "data": {
      "text/plain": [
       "<AxesSubplot:xlabel='Rating color', ylabel='count'>"
      ]
     },
     "execution_count": 75,
     "metadata": {},
     "output_type": "execute_result"
    },
    {
     "data": {
      "image/png": "[encoded data removed]",
      "text/plain": [
       "<Figure size 1200x600 with 1 Axes>"
      ]
     },
     "metadata": {},
     "output_type": "display_data"
    }
   ],
   "source": [
    "# count plot\n",
    "sns.countplot(x=\"Rating color\",data=ratings,palette=['blue','red','orange','yellow','green','green'])"
   ]
  },
  {
   "cell_type": "code",
   "execution_count": 76,
   "id": "852d4a67",
   "metadata": {},
   "outputs": [
    {
     "data": {
      "text/plain": [
       "Index(['Restaurant ID', 'Restaurant Name', 'Country Code', 'City', 'Address',\n",
       "       'Locality', 'Locality Verbose', 'Longitude', 'Latitude', 'Cuisines',\n",
       "       'Average Cost for two', 'Currency', 'Has Table booking',\n",
       "       'Has Online delivery', 'Is delivering now', 'Switch to order menu',\n",
       "       'Price range', 'Aggregate rating', 'Rating color', 'Rating text',\n",
       "       'Votes', 'Country'],\n",
       "      dtype='object')"
      ]
     },
     "execution_count": 76,
     "metadata": {},
     "output_type": "execute_result"
    }
   ],
   "source": [
    "## find the countries name that has given 0 ratings\n",
    "final_df.columns"
   ]
  },
  {
   "cell_type": "code",
   "execution_count": 83,
   "id": "5de4c715",
   "metadata": {},
   "outputs": [
    {
     "data": {
      "text/html": [
       "<div>\n",
       "<style scoped>\n",
       "    .dataframe tbody tr th:only-of-type {\n",
       "        vertical-align: middle;\n",
       "    }\n",
       "\n",
       "    .dataframe tbody tr th {\n",
       "        vertical-align: top;\n",
       "    }\n",
       "\n",
       "    .dataframe thead th {\n",
       "        text-align: right;\n",
       "    }\n",
       "</style>\n",
       "<table border=\"1\" class=\"dataframe\">\n",
       "  <thead>\n",
       "    <tr style=\"text-align: right;\">\n",
       "      <th></th>\n",
       "      <th>Country</th>\n",
       "      <th>0</th>\n",
       "    </tr>\n",
       "  </thead>\n",
       "  <tbody>\n",
       "    <tr>\n",
       "      <th>0</th>\n",
       "      <td>Brazil</td>\n",
       "      <td>5</td>\n",
       "    </tr>\n",
       "    <tr>\n",
       "      <th>1</th>\n",
       "      <td>India</td>\n",
       "      <td>2139</td>\n",
       "    </tr>\n",
       "    <tr>\n",
       "      <th>2</th>\n",
       "      <td>United Kingdom</td>\n",
       "      <td>1</td>\n",
       "    </tr>\n",
       "    <tr>\n",
       "      <th>3</th>\n",
       "      <td>United States</td>\n",
       "      <td>3</td>\n",
       "    </tr>\n",
       "  </tbody>\n",
       "</table>\n",
       "</div>"
      ],
      "text/plain": [
       "          Country     0\n",
       "0          Brazil     5\n",
       "1           India  2139\n",
       "2  United Kingdom     1\n",
       "3   United States     3"
      ]
     },
     "execution_count": 83,
     "metadata": {},
     "output_type": "execute_result"
    }
   ],
   "source": [
    "final_df[final_df['Rating color']=='White'].groupby('Country').size().reset_index()"
   ]
  },
  {
   "cell_type": "markdown",
   "id": "b9cd37c6",
   "metadata": {},
   "source": [
    "Observations:\n",
    "1. Maximaum number of 0 Rtings are from Indian customers"
   ]
  },
  {
   "cell_type": "code",
   "execution_count": 84,
   "id": "0ace471b",
   "metadata": {},
   "outputs": [
    {
     "data": {
      "text/plain": [
       "Index(['Restaurant ID', 'Restaurant Name', 'Country Code', 'City', 'Address',\n",
       "       'Locality', 'Locality Verbose', 'Longitude', 'Latitude', 'Cuisines',\n",
       "       'Average Cost for two', 'Currency', 'Has Table booking',\n",
       "       'Has Online delivery', 'Is delivering now', 'Switch to order menu',\n",
       "       'Price range', 'Aggregate rating', 'Rating color', 'Rating text',\n",
       "       'Votes', 'Country'],\n",
       "      dtype='object')"
      ]
     },
     "execution_count": 84,
     "metadata": {},
     "output_type": "execute_result"
    }
   ],
   "source": [
    "## find out which currency is used by which country??\n",
    "final_df.columns"
   ]
  },
  {
   "cell_type": "code",
   "execution_count": 86,
   "id": "fbf00780",
   "metadata": {},
   "outputs": [
    {
     "data": {
      "text/html": [
       "<div>\n",
       "<style scoped>\n",
       "    .dataframe tbody tr th:only-of-type {\n",
       "        vertical-align: middle;\n",
       "    }\n",
       "\n",
       "    .dataframe tbody tr th {\n",
       "        vertical-align: top;\n",
       "    }\n",
       "\n",
       "    .dataframe thead th {\n",
       "        text-align: right;\n",
       "    }\n",
       "</style>\n",
       "<table border=\"1\" class=\"dataframe\">\n",
       "  <thead>\n",
       "    <tr style=\"text-align: right;\">\n",
       "      <th></th>\n",
       "      <th>Country</th>\n",
       "      <th>Currency</th>\n",
       "      <th>0</th>\n",
       "    </tr>\n",
       "  </thead>\n",
       "  <tbody>\n",
       "    <tr>\n",
       "      <th>0</th>\n",
       "      <td>Australia</td>\n",
       "      <td>Dollar($)</td>\n",
       "      <td>24</td>\n",
       "    </tr>\n",
       "    <tr>\n",
       "      <th>1</th>\n",
       "      <td>Brazil</td>\n",
       "      <td>Brazilian Real(R$)</td>\n",
       "      <td>60</td>\n",
       "    </tr>\n",
       "    <tr>\n",
       "      <th>2</th>\n",
       "      <td>Canada</td>\n",
       "      <td>Dollar($)</td>\n",
       "      <td>4</td>\n",
       "    </tr>\n",
       "    <tr>\n",
       "      <th>3</th>\n",
       "      <td>India</td>\n",
       "      <td>Indian Rupees(Rs.)</td>\n",
       "      <td>8652</td>\n",
       "    </tr>\n",
       "    <tr>\n",
       "      <th>4</th>\n",
       "      <td>Indonesia</td>\n",
       "      <td>Indonesian Rupiah(IDR)</td>\n",
       "      <td>21</td>\n",
       "    </tr>\n",
       "    <tr>\n",
       "      <th>5</th>\n",
       "      <td>New Zealand</td>\n",
       "      <td>NewZealand($)</td>\n",
       "      <td>40</td>\n",
       "    </tr>\n",
       "    <tr>\n",
       "      <th>6</th>\n",
       "      <td>Phillipines</td>\n",
       "      <td>Botswana Pula(P)</td>\n",
       "      <td>22</td>\n",
       "    </tr>\n",
       "    <tr>\n",
       "      <th>7</th>\n",
       "      <td>Qatar</td>\n",
       "      <td>Qatari Rial(QR)</td>\n",
       "      <td>20</td>\n",
       "    </tr>\n",
       "    <tr>\n",
       "      <th>8</th>\n",
       "      <td>Singapore</td>\n",
       "      <td>Dollar($)</td>\n",
       "      <td>20</td>\n",
       "    </tr>\n",
       "    <tr>\n",
       "      <th>9</th>\n",
       "      <td>South Africa</td>\n",
       "      <td>Rand(R)</td>\n",
       "      <td>60</td>\n",
       "    </tr>\n",
       "    <tr>\n",
       "      <th>10</th>\n",
       "      <td>Sri Lanka</td>\n",
       "      <td>Sri Lankan Rupee(LKR)</td>\n",
       "      <td>20</td>\n",
       "    </tr>\n",
       "    <tr>\n",
       "      <th>11</th>\n",
       "      <td>Turkey</td>\n",
       "      <td>Turkish Lira(TL)</td>\n",
       "      <td>34</td>\n",
       "    </tr>\n",
       "    <tr>\n",
       "      <th>12</th>\n",
       "      <td>UAE</td>\n",
       "      <td>Emirati Diram(AED)</td>\n",
       "      <td>60</td>\n",
       "    </tr>\n",
       "    <tr>\n",
       "      <th>13</th>\n",
       "      <td>United Kingdom</td>\n",
       "      <td>Pounds(£)</td>\n",
       "      <td>80</td>\n",
       "    </tr>\n",
       "    <tr>\n",
       "      <th>14</th>\n",
       "      <td>United States</td>\n",
       "      <td>Dollar($)</td>\n",
       "      <td>434</td>\n",
       "    </tr>\n",
       "  </tbody>\n",
       "</table>\n",
       "</div>"
      ],
      "text/plain": [
       "           Country                Currency     0\n",
       "0        Australia               Dollar($)    24\n",
       "1           Brazil      Brazilian Real(R$)    60\n",
       "2           Canada               Dollar($)     4\n",
       "3            India      Indian Rupees(Rs.)  8652\n",
       "4        Indonesia  Indonesian Rupiah(IDR)    21\n",
       "5      New Zealand           NewZealand($)    40\n",
       "6      Phillipines        Botswana Pula(P)    22\n",
       "7            Qatar         Qatari Rial(QR)    20\n",
       "8        Singapore               Dollar($)    20\n",
       "9     South Africa                 Rand(R)    60\n",
       "10       Sri Lanka   Sri Lankan Rupee(LKR)    20\n",
       "11          Turkey        Turkish Lira(TL)    34\n",
       "12             UAE      Emirati Diram(AED)    60\n",
       "13  United Kingdom              Pounds(£)    80\n",
       "14   United States               Dollar($)   434"
      ]
     },
     "execution_count": 86,
     "metadata": {},
     "output_type": "execute_result"
    }
   ],
   "source": [
    "final_df[['Country','Currency']].groupby(['Country','Currency']).size().reset_index()"
   ]
  },
  {
   "cell_type": "code",
   "execution_count": 87,
   "id": "52e7254e",
   "metadata": {},
   "outputs": [
    {
     "data": {
      "text/html": [
       "<div>\n",
       "<style scoped>\n",
       "    .dataframe tbody tr th:only-of-type {\n",
       "        vertical-align: middle;\n",
       "    }\n",
       "\n",
       "    .dataframe tbody tr th {\n",
       "        vertical-align: top;\n",
       "    }\n",
       "\n",
       "    .dataframe thead th {\n",
       "        text-align: right;\n",
       "    }\n",
       "</style>\n",
       "<table border=\"1\" class=\"dataframe\">\n",
       "  <thead>\n",
       "    <tr style=\"text-align: right;\">\n",
       "      <th></th>\n",
       "      <th>Country</th>\n",
       "      <th>Has Online delivery</th>\n",
       "      <th>0</th>\n",
       "    </tr>\n",
       "  </thead>\n",
       "  <tbody>\n",
       "    <tr>\n",
       "      <th>0</th>\n",
       "      <td>Australia</td>\n",
       "      <td>No</td>\n",
       "      <td>24</td>\n",
       "    </tr>\n",
       "    <tr>\n",
       "      <th>1</th>\n",
       "      <td>Brazil</td>\n",
       "      <td>No</td>\n",
       "      <td>60</td>\n",
       "    </tr>\n",
       "    <tr>\n",
       "      <th>2</th>\n",
       "      <td>Canada</td>\n",
       "      <td>No</td>\n",
       "      <td>4</td>\n",
       "    </tr>\n",
       "    <tr>\n",
       "      <th>3</th>\n",
       "      <td>India</td>\n",
       "      <td>No</td>\n",
       "      <td>6229</td>\n",
       "    </tr>\n",
       "    <tr>\n",
       "      <th>4</th>\n",
       "      <td>India</td>\n",
       "      <td>Yes</td>\n",
       "      <td>2423</td>\n",
       "    </tr>\n",
       "    <tr>\n",
       "      <th>5</th>\n",
       "      <td>Indonesia</td>\n",
       "      <td>No</td>\n",
       "      <td>21</td>\n",
       "    </tr>\n",
       "    <tr>\n",
       "      <th>6</th>\n",
       "      <td>New Zealand</td>\n",
       "      <td>No</td>\n",
       "      <td>40</td>\n",
       "    </tr>\n",
       "    <tr>\n",
       "      <th>7</th>\n",
       "      <td>Phillipines</td>\n",
       "      <td>No</td>\n",
       "      <td>22</td>\n",
       "    </tr>\n",
       "    <tr>\n",
       "      <th>8</th>\n",
       "      <td>Qatar</td>\n",
       "      <td>No</td>\n",
       "      <td>20</td>\n",
       "    </tr>\n",
       "    <tr>\n",
       "      <th>9</th>\n",
       "      <td>Singapore</td>\n",
       "      <td>No</td>\n",
       "      <td>20</td>\n",
       "    </tr>\n",
       "    <tr>\n",
       "      <th>10</th>\n",
       "      <td>South Africa</td>\n",
       "      <td>No</td>\n",
       "      <td>60</td>\n",
       "    </tr>\n",
       "    <tr>\n",
       "      <th>11</th>\n",
       "      <td>Sri Lanka</td>\n",
       "      <td>No</td>\n",
       "      <td>20</td>\n",
       "    </tr>\n",
       "    <tr>\n",
       "      <th>12</th>\n",
       "      <td>Turkey</td>\n",
       "      <td>No</td>\n",
       "      <td>34</td>\n",
       "    </tr>\n",
       "    <tr>\n",
       "      <th>13</th>\n",
       "      <td>UAE</td>\n",
       "      <td>No</td>\n",
       "      <td>32</td>\n",
       "    </tr>\n",
       "    <tr>\n",
       "      <th>14</th>\n",
       "      <td>UAE</td>\n",
       "      <td>Yes</td>\n",
       "      <td>28</td>\n",
       "    </tr>\n",
       "    <tr>\n",
       "      <th>15</th>\n",
       "      <td>United Kingdom</td>\n",
       "      <td>No</td>\n",
       "      <td>80</td>\n",
       "    </tr>\n",
       "    <tr>\n",
       "      <th>16</th>\n",
       "      <td>United States</td>\n",
       "      <td>No</td>\n",
       "      <td>434</td>\n",
       "    </tr>\n",
       "  </tbody>\n",
       "</table>\n",
       "</div>"
      ],
      "text/plain": [
       "           Country Has Online delivery     0\n",
       "0        Australia                  No    24\n",
       "1           Brazil                  No    60\n",
       "2           Canada                  No     4\n",
       "3            India                  No  6229\n",
       "4            India                 Yes  2423\n",
       "5        Indonesia                  No    21\n",
       "6      New Zealand                  No    40\n",
       "7      Phillipines                  No    22\n",
       "8            Qatar                  No    20\n",
       "9        Singapore                  No    20\n",
       "10    South Africa                  No    60\n",
       "11       Sri Lanka                  No    20\n",
       "12          Turkey                  No    34\n",
       "13             UAE                  No    32\n",
       "14             UAE                 Yes    28\n",
       "15  United Kingdom                  No    80\n",
       "16   United States                  No   434"
      ]
     },
     "execution_count": 87,
     "metadata": {},
     "output_type": "execute_result"
    }
   ],
   "source": [
    "## Which countries do have online deliveries options\n",
    "final_df[['Country','Has Online delivery']].groupby(['Country','Has Online delivery']).size().reset_index()"
   ]
  },
  {
   "cell_type": "code",
   "execution_count": 94,
   "id": "41b50be4",
   "metadata": {},
   "outputs": [
    {
     "data": {
      "text/plain": [
       "India    2423\n",
       "UAE        28\n",
       "Name: Country, dtype: int64"
      ]
     },
     "execution_count": 94,
     "metadata": {},
     "output_type": "execute_result"
    }
   ],
   "source": [
    "final_df[final_df['Has Online delivery']=='Yes'].Country.value_counts()"
   ]
  },
  {
   "cell_type": "markdown",
   "id": "7f630c02",
   "metadata": {},
   "source": [
    "# Observations:\n",
    "1. Online deliveries available in india and UAE"
   ]
  },
  {
   "cell_type": "code",
   "execution_count": 109,
   "id": "bd07f7ed",
   "metadata": {},
   "outputs": [
    {
     "data": {
      "text/plain": [
       "array([5473, 1118, 1080,  251,   25,   21,   21,   21,   21,   21,   20,\n",
       "         20,   20,   20,   20,   20,   20,   20,   20,   20,   20,   20,\n",
       "         20,   20,   20,   20,   20,   20,   20,   20,   20,   20,   20,\n",
       "         20,   20,   20,   20,   20,   20,   20,   20,   20,   20,   20,\n",
       "         20,   20,   20,   20,   20,   20,   20,   20,   20,   20,   20,\n",
       "         20,   20,   20,   20,   20,   20,   20,   20,   20,   20,   20,\n",
       "         20,   20,   20,   20,   20,   20,   20,   20,   20,   20,   20,\n",
       "         18,   18,   16,   14,   11,    6,    4,    4,    3,    3,    2,\n",
       "          2,    2,    2,    2,    2,    2,    2,    1,    1,    1,    1,\n",
       "          1,    1,    1,    1,    1,    1,    1,    1,    1,    1,    1,\n",
       "          1,    1,    1,    1,    1,    1,    1,    1,    1,    1,    1,\n",
       "          1,    1,    1,    1,    1,    1,    1,    1,    1,    1,    1,\n",
       "          1,    1,    1,    1,    1,    1,    1,    1,    1], dtype=int64)"
      ]
     },
     "execution_count": 109,
     "metadata": {},
     "output_type": "execute_result"
    }
   ],
   "source": [
    "## create a pie chate for cities distributions\n",
    "country_values=final_df.City.value_counts().values\n",
    "country_values"
   ]
  },
  {
   "cell_type": "code",
   "execution_count": 112,
   "id": "01332391",
   "metadata": {},
   "outputs": [
    {
     "data": {
      "text/plain": [
       "Index(['New Delhi', 'Gurgaon', 'Noida', 'Faridabad', 'Ghaziabad',\n",
       "       'Bhubaneshwar', 'Amritsar', 'Ahmedabad', 'Lucknow', 'Guwahati',\n",
       "       ...\n",
       "       'Ojo Caliente', 'Montville', 'Monroe', 'Miller', 'Middleton Beach',\n",
       "       'Panchkula', 'Mc Millan', 'Mayfield', 'Macedon', 'Vineland Station'],\n",
       "      dtype='object', length=141)"
      ]
     },
     "execution_count": 112,
     "metadata": {},
     "output_type": "execute_result"
    }
   ],
   "source": [
    "city_labels=final_df.City.value_counts().index\n",
    "city_labels"
   ]
  },
  {
   "cell_type": "code",
   "execution_count": 113,
   "id": "d12dd430",
   "metadata": {},
   "outputs": [
    {
     "data": {
      "text/plain": [
       "([<matplotlib.patches.Wedge at 0x200652b8880>,\n",
       "  <matplotlib.patches.Wedge at 0x200652b8fa0>,\n",
       "  <matplotlib.patches.Wedge at 0x200652c8700>,\n",
       "  <matplotlib.patches.Wedge at 0x200652c8e20>,\n",
       "  <matplotlib.patches.Wedge at 0x200652d5580>],\n",
       " [Text(-0.6145352824185932, 0.9123301960708633, 'New Delhi'),\n",
       "  Text(0.0623675251198054, -1.0982305276263407, 'Gurgaon'),\n",
       "  Text(0.8789045225625368, -0.6614581167535246, 'Noida'),\n",
       "  Text(1.0922218418223437, -0.13058119407559224, 'Faridabad'),\n",
       "  Text(1.099946280005612, -0.010871113182029924, 'Ghaziabad')],\n",
       " [Text(-0.3352010631374145, 0.497634652402289, '68.87%'),\n",
       "  Text(0.0340186500653484, -0.5990348332507311, '14.07%'),\n",
       "  Text(0.47940246685229276, -0.36079533641101336, '13.59%'),\n",
       "  Text(0.5957573682667329, -0.07122610585941394, '3.16%'),\n",
       "  Text(0.5999706981848791, -0.005929698099289049, '0.31%')])"
      ]
     },
     "execution_count": 113,
     "metadata": {},
     "output_type": "execute_result"
    },
    {
     "data": {
      "image/png": "[encoded data removed]",
      "text/plain": [
       "<Figure size 1200x600 with 1 Axes>"
      ]
     },
     "metadata": {},
     "output_type": "display_data"
    }
   ],
   "source": [
    "plt.pie(country_values[:5],labels=city_labels[:5],autopct='%1.2f%%')"
   ]
  },
  {
   "cell_type": "markdown",
   "id": "885f02cf",
   "metadata": {},
   "source": [
    "## Assignment \n",
    "find the top 10 cuisines"
   ]
  },
  {
   "cell_type": "code",
   "execution_count": 114,
   "id": "ea337b4a",
   "metadata": {},
   "outputs": [
    {
     "data": {
      "text/plain": [
       "Index(['Restaurant ID', 'Restaurant Name', 'Country Code', 'City', 'Address',\n",
       "       'Locality', 'Locality Verbose', 'Longitude', 'Latitude', 'Cuisines',\n",
       "       'Average Cost for two', 'Currency', 'Has Table booking',\n",
       "       'Has Online delivery', 'Is delivering now', 'Switch to order menu',\n",
       "       'Price range', 'Aggregate rating', 'Rating color', 'Rating text',\n",
       "       'Votes', 'Country'],\n",
       "      dtype='object')"
      ]
     },
     "execution_count": 114,
     "metadata": {},
     "output_type": "execute_result"
    }
   ],
   "source": [
    "final_df.columns"
   ]
  },
  {
   "cell_type": "code",
   "execution_count": 117,
   "id": "ddf0ac3f",
   "metadata": {},
   "outputs": [
    {
     "ename": "SyntaxError",
     "evalue": "invalid syntax (4129200440.py, line 1)",
     "output_type": "error",
     "traceback": [
      "\u001b[1;36m  File \u001b[1;32m\"C:\\Users\\DELL\\AppData\\Local\\Temp\\ipykernel_23012\\4129200440.py\"\u001b[1;36m, line \u001b[1;32m1\u001b[0m\n\u001b[1;33m    final_df.[cuisines]\u001b[0m\n\u001b[1;37m             ^\u001b[0m\n\u001b[1;31mSyntaxError\u001b[0m\u001b[1;31m:\u001b[0m invalid syntax\n"
     ]
    }
   ],
   "source": [
    "final_df.[cuisines]"
   ]
  },
  {
   "cell_type": "code",
   "execution_count": null,
   "id": "044badc3",
   "metadata": {},
   "outputs": [],
   "source": []
  }
 ],
 "metadata": {
  "kernelspec": {
   "display_name": "Python 3 (ipykernel)",
   "language": "python",
   "name": "python3"
  },
  "language_info": {
   "codemirror_mode": {
    "name": "ipython",
    "version": 3
   },
   "file_extension": ".py",
   "mimetype": "text/x-python",
   "name": "python",
   "nbconvert_exporter": "python",
   "pygments_lexer": "ipython3",
   "version": "3.9.13"
  }
 },
 "nbformat": 4,
 "nbformat_minor": 5
}
