{
 "cells": [
  {
   "cell_type": "code",
   "execution_count": 1,
   "id": "d34e26de",
   "metadata": {},
   "outputs": [],
   "source": [
    "import os\n",
    "import numpy as np\n",
    "import pandas as pd \n",
    "import tensorflow as tf\n",
    "from tensorflow.keras import layers\n",
    "from tensorflow.keras.models import Sequential\n",
    "from tensorflow.keras.preprocessing.image import ImageDataGenerator"
   ]
  },
  {
   "cell_type": "code",
   "execution_count": 2,
   "id": "f3cacb95",
   "metadata": {},
   "outputs": [],
   "source": [
    "data_path=r\"C:\\Users\\DELL\\Desktop\\images\\images\""
   ]
  },
  {
   "cell_type": "code",
   "execution_count": 3,
   "id": "2c4fbe9d",
   "metadata": {},
   "outputs": [
    {
     "name": "stdout",
     "output_type": "stream",
     "text": [
      "<keras.preprocessing.image.ImageDataGenerator object at 0x0000023D6284F4F0>\n"
     ]
    }
   ],
   "source": [
    "img_height,img_width= 64,64\n",
    "datagen=ImageDataGenerator(rescale=1./225,rotation_range=20,width_shift_range=0.1,height_shift_range=0.1,horizontal_flip=True)\n",
    "print(datagen)"
   ]
  },
  {
   "cell_type": "code",
   "execution_count": 37,
   "id": "0654251f",
   "metadata": {},
   "outputs": [],
   "source": [
    "from tensorflow import keras\n",
    "from tensorflow.keras import layers\n",
    "num_classes=9\n",
    "model = keras.Sequential([\n",
    "    layers.Conv2D(32, (3, 3), activation=\"relu\", padding='valid',input_shape=(img_height, img_width, 3)),\n",
    "    layers.MaxPooling2D((2, 2),strides=2),         # adding the padding and stride\n",
    "    layers.Conv2D(64, (3, 3), activation=\"relu\", padding='valid'),\n",
    "    layers.MaxPooling2D((2, 2),strides=2),\n",
    "    layers.Conv2D(128, (3, 3), activation=\"relu\", padding='valid'),  # improiving the model complexiy upto 256 filters from 64\n",
    "    layers.MaxPooling2D((2, 2),strides=2),\n",
    "    #layers.Conv2D(128, (3, 3), activation=\"relu\", padding='valid'),\n",
    "    #layers.MaxPooling2D((2, 2),strides=2),\n",
    "    \n",
    "    \n",
    "    # Add more layers as needed\n",
    "    layers.Flatten(),\n",
    "    layers.Dense(128, activation=\"relu\"),\n",
    "    layers.Dropout(0.2),\n",
    "    layers.Dense(num_classes, activation=\"softmax\")\n",
    "])\n"
   ]
  },
  {
   "cell_type": "code",
   "execution_count": 38,
   "id": "0624bb55",
   "metadata": {},
   "outputs": [
    {
     "name": "stdout",
     "output_type": "stream",
     "text": [
      "Found 38267 images belonging to 9 classes.\n",
      "Found 9440 images belonging to 9 classes.\n"
     ]
    }
   ],
   "source": [
    "train_generator = datagen.flow_from_directory(\n",
    "    os.path.join(data_path, \"train\"),\n",
    "    target_size=(img_height, img_width),\n",
    "    batch_size=32,\n",
    "    class_mode=\"categorical\",\n",
    "    shuffle=True\n",
    ")\n",
    "\n",
    "validation_generator = datagen.flow_from_directory(\n",
    "    os.path.join(data_path, \"validation\"),\n",
    "    target_size=(img_height, img_width),\n",
    "    batch_size=32,\n",
    "    class_mode=\"categorical\"\n",
    ")\n"
   ]
  },
  {
   "cell_type": "code",
   "execution_count": 39,
   "id": "f0a99af6",
   "metadata": {},
   "outputs": [
    {
     "name": "stdout",
     "output_type": "stream",
     "text": [
      "(None, 64, 64, 3)\n"
     ]
    }
   ],
   "source": [
    "layers=model.layers\n",
    "print(layers[0].input_shape)\n"
   ]
  },
  {
   "cell_type": "code",
   "execution_count": 40,
   "id": "d2c7ef20",
   "metadata": {},
   "outputs": [],
   "source": [
    "# adding the learning rate  of optomizer\n",
    "#changing the learning rate from 0.001 to 0.0001\n",
    "# changing the learning rate from 0.0001 to 0.001\n",
    "optimizer= tf.keras.optimizers.Adam(\n",
    "    learning_rate=0.0001\n",
    ")"
   ]
  },
  {
   "cell_type": "code",
   "execution_count": 41,
   "id": "042cefd8",
   "metadata": {},
   "outputs": [],
   "source": [
    "model.compile(\n",
    "    optimizer=optimizer,\n",
    "    loss=\"categorical_crossentropy\",\n",
    "    metrics=[\"accuracy\"]\n",
    ")\n"
   ]
  },
  {
   "cell_type": "code",
   "execution_count": 42,
   "id": "592c3e4e",
   "metadata": {},
   "outputs": [],
   "source": [
    "# changing the patience from 20 to 5\n",
    "early_stopping=tf.keras.callbacks.EarlyStopping(monitor=\"val_loss\",patience=7,verbose=1,restore_best_weights=False)"
   ]
  },
  {
   "cell_type": "code",
   "execution_count": 43,
   "id": "e4fdc883",
   "metadata": {},
   "outputs": [
    {
     "name": "stdout",
     "output_type": "stream",
     "text": [
      "Epoch 1/50\n",
      "1196/1196 [==============================] - 254s 212ms/step - loss: 1.8756 - accuracy: 0.2932 - val_loss: 2.8053 - val_accuracy: 0.0958\n",
      "Epoch 2/50\n",
      "1196/1196 [==============================] - 260s 217ms/step - loss: 1.6787 - accuracy: 0.3707 - val_loss: 2.9943 - val_accuracy: 0.0666\n",
      "Epoch 3/50\n",
      "1196/1196 [==============================] - 252s 210ms/step - loss: 1.5921 - accuracy: 0.4094 - val_loss: 3.0954 - val_accuracy: 0.1141\n",
      "Epoch 4/50\n",
      "1196/1196 [==============================] - 268s 224ms/step - loss: 1.5217 - accuracy: 0.4372 - val_loss: 3.4246 - val_accuracy: 0.0747\n",
      "Epoch 5/50\n",
      "1196/1196 [==============================] - 218s 183ms/step - loss: 1.4636 - accuracy: 0.4626 - val_loss: 3.4872 - val_accuracy: 0.0876\n",
      "Epoch 6/50\n",
      "1196/1196 [==============================] - 229s 192ms/step - loss: 1.4186 - accuracy: 0.4822 - val_loss: 3.8131 - val_accuracy: 0.0647\n",
      "Epoch 7/50\n",
      "1196/1196 [==============================] - 216s 181ms/step - loss: 1.3714 - accuracy: 0.4980 - val_loss: 3.8069 - val_accuracy: 0.0628\n",
      "Epoch 8/50\n",
      "1196/1196 [==============================] - 332s 278ms/step - loss: 1.3292 - accuracy: 0.5125 - val_loss: 4.0957 - val_accuracy: 0.0657\n",
      "Epoch 8: early stopping\n"
     ]
    },
    {
     "data": {
      "text/plain": [
       "<keras.callbacks.History at 0x23d09b696d0>"
      ]
     },
     "execution_count": 43,
     "metadata": {},
     "output_type": "execute_result"
    }
   ],
   "source": [
    "model.fit(train_generator,epochs=50,validation_data=validation_generator,callbacks=[early_stopping])"
   ]
  },
  {
   "cell_type": "code",
   "execution_count": 33,
   "id": "73118ac5",
   "metadata": {},
   "outputs": [],
   "source": [
    "model.save(\"mb5.1.h5\")"
   ]
  },
  {
   "cell_type": "code",
   "execution_count": null,
   "id": "9ec2442f",
   "metadata": {},
   "outputs": [],
   "source": []
  }
 ],
 "metadata": {
  "kernelspec": {
   "display_name": "Python 3 (ipykernel)",
   "language": "python",
   "name": "python3"
  },
  "language_info": {
   "codemirror_mode": {
    "name": "ipython",
    "version": 3
   },
   "file_extension": ".py",
   "mimetype": "text/x-python",
   "name": "python",
   "nbconvert_exporter": "python",
   "pygments_lexer": "ipython3",
   "version": "3.9.13"
  }
 },
 "nbformat": 4,
 "nbformat_minor": 5
}
