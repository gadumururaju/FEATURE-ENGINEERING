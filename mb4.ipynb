{
 "cells": [
  {
   "cell_type": "code",
   "execution_count": 4,
   "id": "7b5c381e",
   "metadata": {},
   "outputs": [],
   "source": [
    "import os\n",
    "import numpy as np\n",
    "import pandas as pd \n",
    "import tensorflow as tf\n",
    "from tensorflow.keras import layers\n",
    "from tensorflow.keras.models import Sequential\n",
    "from tensorflow.keras.preprocessing.image import ImageDataGenerator"
   ]
  },
  {
   "cell_type": "code",
   "execution_count": 5,
   "id": "9d87c274",
   "metadata": {},
   "outputs": [],
   "source": [
    "data_path=r\"C:\\Users\\DELL\\Desktop\\images\\images\""
   ]
  },
  {
   "cell_type": "code",
   "execution_count": 6,
   "id": "2610c7a2",
   "metadata": {},
   "outputs": [
    {
     "name": "stdout",
     "output_type": "stream",
     "text": [
      "<keras.preprocessing.image.ImageDataGenerator object at 0x000001D9DBBE4BE0>\n"
     ]
    }
   ],
   "source": [
    "img_height,img_width= 64,64\n",
    "datagen=ImageDataGenerator(rescale=1./225,rotation_range=20,width_shift_range=0.1,height_shift_range=0.1,horizontal_flip=True)\n",
    "print(datagen)"
   ]
  },
  {
   "cell_type": "code",
   "execution_count": 8,
   "id": "653959a0",
   "metadata": {
    "scrolled": true
   },
   "outputs": [],
   "source": [
    "from tensorflow import keras\n",
    "from tensorflow.keras import layers\n",
    "num_classes=9\n",
    "model = keras.Sequential([\n",
    "    layers.Conv2D(32, (3, 3), activation=\"relu\", padding='valid',input_shape=(img_height, img_width, 3)),\n",
    "    layers.MaxPooling2D((2, 2),strides=2),         # adding the padding and stride\n",
    "    layers.Conv2D(64, (3, 3), activation=\"relu\"),\n",
    "    layers.MaxPooling2D((2, 2),strides=2),\n",
    "    layers.Conv2D(128, (3, 3), activation=\"relu\"),  # improiving the model complexiy upto 256 filters from 64\n",
    "    layers.MaxPooling2D((2, 2),strides=2),\n",
    "    layers.Conv2D(256, (3, 3), activation=\"relu\"),\n",
    "    layers.MaxPooling2D((2, 2),strides=2),\n",
    "    layers.Dropout(0.9),\n",
    "    \n",
    "    # Add more layers as needed\n",
    "    layers.Flatten(),\n",
    "    layers.Dense(512, activation=\"relu\"),\n",
    "    layers.Dense(num_classes, activation=\"softmax\")\n",
    "])\n"
   ]
  },
  {
   "cell_type": "code",
   "execution_count": 9,
   "id": "91cfa546",
   "metadata": {},
   "outputs": [
    {
     "name": "stdout",
     "output_type": "stream",
     "text": [
      "Found 38267 images belonging to 9 classes.\n",
      "Found 9440 images belonging to 9 classes.\n"
     ]
    }
   ],
   "source": [
    "train_generator = datagen.flow_from_directory(\n",
    "    os.path.join(data_path, \"train\"),\n",
    "    target_size=(img_height, img_width),\n",
    "    batch_size=32,\n",
    "    class_mode=\"categorical\",\n",
    "    shuffle=True\n",
    ")\n",
    "\n",
    "validation_generator = datagen.flow_from_directory(\n",
    "    os.path.join(data_path, \"validation\"),\n",
    "    target_size=(img_height, img_width),\n",
    "    batch_size=32,\n",
    "    class_mode=\"categorical\"\n",
    ")\n"
   ]
  },
  {
   "cell_type": "code",
   "execution_count": 10,
   "id": "c5e4d360",
   "metadata": {},
   "outputs": [
    {
     "name": "stdout",
     "output_type": "stream",
     "text": [
      "(None, 64, 64, 3)\n"
     ]
    }
   ],
   "source": [
    "layers=model.layers\n",
    "print(layers[0].input_shape)\n"
   ]
  },
  {
   "cell_type": "code",
   "execution_count": 16,
   "id": "dc51db81",
   "metadata": {},
   "outputs": [],
   "source": [
    "# adding the learning rate  of optomizer\n",
    "#changing the learning rate from 0.001 to 0.0001\n",
    "# changing the learning rate from 0.0001 to 0.001\n",
    "optimizer= tf.keras.optimizers.Adam(\n",
    "    learning_rate=0.001\n",
    ")"
   ]
  },
  {
   "cell_type": "code",
   "execution_count": 17,
   "id": "8386c999",
   "metadata": {},
   "outputs": [],
   "source": [
    "model.compile(\n",
    "    optimizer=optimizer,\n",
    "    loss=\"categorical_crossentropy\",\n",
    "    metrics=[\"accuracy\"]\n",
    ")\n"
   ]
  },
  {
   "cell_type": "code",
   "execution_count": 18,
   "id": "4b1f1625",
   "metadata": {},
   "outputs": [],
   "source": [
    "# changing the patience from 20 to 5\n",
    "early_stopping=tf.keras.callbacks.EarlyStopping(monitor=\"val_loss\",patience=7,verbose=1,restore_best_weights=False)"
   ]
  },
  {
   "cell_type": "code",
   "execution_count": 19,
   "id": "d16b1962",
   "metadata": {},
   "outputs": [
    {
     "name": "stdout",
     "output_type": "stream",
     "text": [
      "Epoch 1/50\n",
      "1196/1196 [==============================] - 251s 209ms/step - loss: 1.9416 - accuracy: 0.2462 - val_loss: 2.9707 - val_accuracy: 0.1337\n",
      "Epoch 2/50\n",
      "1196/1196 [==============================] - 246s 206ms/step - loss: 1.7593 - accuracy: 0.3213 - val_loss: 3.1787 - val_accuracy: 0.1339\n",
      "Epoch 3/50\n",
      "1196/1196 [==============================] - 242s 203ms/step - loss: 1.6450 - accuracy: 0.3697 - val_loss: 3.5263 - val_accuracy: 0.0824\n",
      "Epoch 4/50\n",
      "1196/1196 [==============================] - 228s 191ms/step - loss: 1.5718 - accuracy: 0.3985 - val_loss: 4.1299 - val_accuracy: 0.1214\n",
      "Epoch 5/50\n",
      "1196/1196 [==============================] - 236s 197ms/step - loss: 1.5124 - accuracy: 0.4225 - val_loss: 4.3325 - val_accuracy: 0.0864\n",
      "Epoch 6/50\n",
      "1196/1196 [==============================] - 248s 207ms/step - loss: 1.4839 - accuracy: 0.4363 - val_loss: 4.5351 - val_accuracy: 0.0715\n",
      "Epoch 7/50\n",
      "1196/1196 [==============================] - 244s 204ms/step - loss: 1.4525 - accuracy: 0.4480 - val_loss: 4.5337 - val_accuracy: 0.0709\n",
      "Epoch 8/50\n",
      "1196/1196 [==============================] - 238s 199ms/step - loss: 1.4257 - accuracy: 0.4621 - val_loss: 4.2656 - val_accuracy: 0.0519\n",
      "Epoch 8: early stopping\n"
     ]
    },
    {
     "data": {
      "text/plain": [
       "<keras.callbacks.History at 0x1d9dd177310>"
      ]
     },
     "execution_count": 19,
     "metadata": {},
     "output_type": "execute_result"
    }
   ],
   "source": [
    "model.fit(train_generator,epochs=50,validation_data=validation_generator,callbacks=[early_stopping])"
   ]
  },
  {
   "cell_type": "code",
   "execution_count": 20,
   "id": "630113b6",
   "metadata": {},
   "outputs": [],
   "source": [
    "model.save(\"mb4.1.h5\")"
   ]
  },
  {
   "cell_type": "code",
   "execution_count": null,
   "id": "1254e628",
   "metadata": {},
   "outputs": [],
   "source": []
  }
 ],
 "metadata": {
  "kernelspec": {
   "display_name": "Python 3 (ipykernel)",
   "language": "python",
   "name": "python3"
  },
  "language_info": {
   "codemirror_mode": {
    "name": "ipython",
    "version": 3
   },
   "file_extension": ".py",
   "mimetype": "text/x-python",
   "name": "python",
   "nbconvert_exporter": "python",
   "pygments_lexer": "ipython3",
   "version": "3.9.13"
  }
 },
 "nbformat": 4,
 "nbformat_minor": 5
}
