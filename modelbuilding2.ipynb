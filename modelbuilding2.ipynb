{
 "cells": [
  {
   "cell_type": "code",
   "execution_count": 1,
   "id": "0fb8a510",
   "metadata": {
    "scrolled": true
   },
   "outputs": [
    {
     "name": "stdout",
     "output_type": "stream",
     "text": [
      "Requirement already satisfied: numpy in c:\\users\\dell\\anaconda3\\lib\\site-packages (1.23.5)\n",
      "Requirement already satisfied: pandas in c:\\users\\dell\\anaconda3\\lib\\site-packages (1.4.4)\n",
      "Requirement already satisfied: tensorflow in c:\\users\\dell\\anaconda3\\lib\\site-packages (2.12.0)\n",
      "Requirement already satisfied: python-dateutil>=2.8.1 in c:\\users\\dell\\anaconda3\\lib\\site-packages (from pandas) (2.8.2)\n",
      "Requirement already satisfied: pytz>=2020.1 in c:\\users\\dell\\anaconda3\\lib\\site-packages (from pandas) (2022.1)\n",
      "Requirement already satisfied: tensorflow-intel==2.12.0 in c:\\users\\dell\\anaconda3\\lib\\site-packages (from tensorflow) (2.12.0)\n",
      "Requirement already satisfied: keras<2.13,>=2.12.0 in c:\\users\\dell\\anaconda3\\lib\\site-packages (from tensorflow-intel==2.12.0->tensorflow) (2.12.0)\n",
      "Requirement already satisfied: termcolor>=1.1.0 in c:\\users\\dell\\anaconda3\\lib\\site-packages (from tensorflow-intel==2.12.0->tensorflow) (2.2.0)\n",
      "Requirement already satisfied: jax>=0.3.15 in c:\\users\\dell\\anaconda3\\lib\\site-packages (from tensorflow-intel==2.12.0->tensorflow) (0.4.8)\n",
      "Requirement already satisfied: gast<=0.4.0,>=0.2.1 in c:\\users\\dell\\anaconda3\\lib\\site-packages (from tensorflow-intel==2.12.0->tensorflow) (0.4.0)\n",
      "Requirement already satisfied: protobuf!=4.21.0,!=4.21.1,!=4.21.2,!=4.21.3,!=4.21.4,!=4.21.5,<5.0.0dev,>=3.20.3 in c:\\users\\dell\\anaconda3\\lib\\site-packages (from tensorflow-intel==2.12.0->tensorflow) (4.22.3)\n",
      "Requirement already satisfied: tensorflow-estimator<2.13,>=2.12.0 in c:\\users\\dell\\anaconda3\\lib\\site-packages (from tensorflow-intel==2.12.0->tensorflow) (2.12.0)\n",
      "Requirement already satisfied: absl-py>=1.0.0 in c:\\users\\dell\\anaconda3\\lib\\site-packages (from tensorflow-intel==2.12.0->tensorflow) (1.4.0)\n",
      "Requirement already satisfied: grpcio<2.0,>=1.24.3 in c:\\users\\dell\\anaconda3\\lib\\site-packages (from tensorflow-intel==2.12.0->tensorflow) (1.53.0)\n",
      "Requirement already satisfied: astunparse>=1.6.0 in c:\\users\\dell\\anaconda3\\lib\\site-packages (from tensorflow-intel==2.12.0->tensorflow) (1.6.3)\n",
      "Requirement already satisfied: six>=1.12.0 in c:\\users\\dell\\anaconda3\\lib\\site-packages (from tensorflow-intel==2.12.0->tensorflow) (1.16.0)\n",
      "Requirement already satisfied: opt-einsum>=2.3.2 in c:\\users\\dell\\anaconda3\\lib\\site-packages (from tensorflow-intel==2.12.0->tensorflow) (3.3.0)\n",
      "Requirement already satisfied: packaging in c:\\users\\dell\\anaconda3\\lib\\site-packages (from tensorflow-intel==2.12.0->tensorflow) (21.3)\n",
      "Requirement already satisfied: libclang>=13.0.0 in c:\\users\\dell\\anaconda3\\lib\\site-packages (from tensorflow-intel==2.12.0->tensorflow) (16.0.0)\n",
      "Requirement already satisfied: tensorflow-io-gcs-filesystem>=0.23.1 in c:\\users\\dell\\anaconda3\\lib\\site-packages (from tensorflow-intel==2.12.0->tensorflow) (0.31.0)\n",
      "Requirement already satisfied: flatbuffers>=2.0 in c:\\users\\dell\\anaconda3\\lib\\site-packages (from tensorflow-intel==2.12.0->tensorflow) (23.3.3)\n",
      "Requirement already satisfied: h5py>=2.9.0 in c:\\users\\dell\\anaconda3\\lib\\site-packages (from tensorflow-intel==2.12.0->tensorflow) (3.7.0)\n",
      "Requirement already satisfied: typing-extensions>=3.6.6 in c:\\users\\dell\\anaconda3\\lib\\site-packages (from tensorflow-intel==2.12.0->tensorflow) (4.3.0)\n",
      "Requirement already satisfied: wrapt<1.15,>=1.11.0 in c:\\users\\dell\\anaconda3\\lib\\site-packages (from tensorflow-intel==2.12.0->tensorflow) (1.14.1)\n",
      "Requirement already satisfied: google-pasta>=0.1.1 in c:\\users\\dell\\anaconda3\\lib\\site-packages (from tensorflow-intel==2.12.0->tensorflow) (0.2.0)\n",
      "Requirement already satisfied: setuptools in c:\\users\\dell\\anaconda3\\lib\\site-packages (from tensorflow-intel==2.12.0->tensorflow) (63.4.1)\n",
      "Requirement already satisfied: tensorboard<2.13,>=2.12 in c:\\users\\dell\\anaconda3\\lib\\site-packages (from tensorflow-intel==2.12.0->tensorflow) (2.12.1)\n",
      "Requirement already satisfied: wheel<1.0,>=0.23.0 in c:\\users\\dell\\anaconda3\\lib\\site-packages (from astunparse>=1.6.0->tensorflow-intel==2.12.0->tensorflow) (0.37.1)\n",
      "Requirement already satisfied: ml-dtypes>=0.0.3 in c:\\users\\dell\\anaconda3\\lib\\site-packages (from jax>=0.3.15->tensorflow-intel==2.12.0->tensorflow) (0.1.0)\n",
      "Requirement already satisfied: scipy>=1.7 in c:\\users\\dell\\anaconda3\\lib\\site-packages (from jax>=0.3.15->tensorflow-intel==2.12.0->tensorflow) (1.9.1)\n",
      "Requirement already satisfied: markdown>=2.6.8 in c:\\users\\dell\\anaconda3\\lib\\site-packages (from tensorboard<2.13,>=2.12->tensorflow-intel==2.12.0->tensorflow) (3.3.4)\n",
      "Requirement already satisfied: tensorboard-data-server<0.8.0,>=0.7.0 in c:\\users\\dell\\anaconda3\\lib\\site-packages (from tensorboard<2.13,>=2.12->tensorflow-intel==2.12.0->tensorflow) (0.7.0)\n",
      "Requirement already satisfied: requests<3,>=2.21.0 in c:\\users\\dell\\anaconda3\\lib\\site-packages (from tensorboard<2.13,>=2.12->tensorflow-intel==2.12.0->tensorflow) (2.28.1)\n",
      "Requirement already satisfied: tensorboard-plugin-wit>=1.6.0 in c:\\users\\dell\\anaconda3\\lib\\site-packages (from tensorboard<2.13,>=2.12->tensorflow-intel==2.12.0->tensorflow) (1.8.1)\n",
      "Requirement already satisfied: google-auth<3,>=1.6.3 in c:\\users\\dell\\anaconda3\\lib\\site-packages (from tensorboard<2.13,>=2.12->tensorflow-intel==2.12.0->tensorflow) (2.17.3)\n",
      "Requirement already satisfied: google-auth-oauthlib<1.1,>=0.5 in c:\\users\\dell\\anaconda3\\lib\\site-packages (from tensorboard<2.13,>=2.12->tensorflow-intel==2.12.0->tensorflow) (1.0.0)\n",
      "Requirement already satisfied: werkzeug>=1.0.1 in c:\\users\\dell\\anaconda3\\lib\\site-packages (from tensorboard<2.13,>=2.12->tensorflow-intel==2.12.0->tensorflow) (2.0.3)\n",
      "Requirement already satisfied: pyparsing!=3.0.5,>=2.0.2 in c:\\users\\dell\\anaconda3\\lib\\site-packages (from packaging->tensorflow-intel==2.12.0->tensorflow) (3.0.9)\n",
      "Requirement already satisfied: rsa<5,>=3.1.4 in c:\\users\\dell\\anaconda3\\lib\\site-packages (from google-auth<3,>=1.6.3->tensorboard<2.13,>=2.12->tensorflow-intel==2.12.0->tensorflow) (4.9)\n",
      "Requirement already satisfied: cachetools<6.0,>=2.0.0 in c:\\users\\dell\\anaconda3\\lib\\site-packages (from google-auth<3,>=1.6.3->tensorboard<2.13,>=2.12->tensorflow-intel==2.12.0->tensorflow) (5.3.0)\n",
      "Requirement already satisfied: pyasn1-modules>=0.2.1 in c:\\users\\dell\\anaconda3\\lib\\site-packages (from google-auth<3,>=1.6.3->tensorboard<2.13,>=2.12->tensorflow-intel==2.12.0->tensorflow) (0.2.8)\n",
      "Requirement already satisfied: requests-oauthlib>=0.7.0 in c:\\users\\dell\\anaconda3\\lib\\site-packages (from google-auth-oauthlib<1.1,>=0.5->tensorboard<2.13,>=2.12->tensorflow-intel==2.12.0->tensorflow) (1.3.1)\n",
      "Requirement already satisfied: charset-normalizer<3,>=2 in c:\\users\\dell\\anaconda3\\lib\\site-packages (from requests<3,>=2.21.0->tensorboard<2.13,>=2.12->tensorflow-intel==2.12.0->tensorflow) (2.0.4)\n",
      "Requirement already satisfied: idna<4,>=2.5 in c:\\users\\dell\\anaconda3\\lib\\site-packages (from requests<3,>=2.21.0->tensorboard<2.13,>=2.12->tensorflow-intel==2.12.0->tensorflow) (3.3)\n",
      "Requirement already satisfied: urllib3<1.27,>=1.21.1 in c:\\users\\dell\\anaconda3\\lib\\site-packages (from requests<3,>=2.21.0->tensorboard<2.13,>=2.12->tensorflow-intel==2.12.0->tensorflow) (1.26.11)\n",
      "Requirement already satisfied: certifi>=2017.4.17 in c:\\users\\dell\\anaconda3\\lib\\site-packages (from requests<3,>=2.21.0->tensorboard<2.13,>=2.12->tensorflow-intel==2.12.0->tensorflow) (2022.12.7)\n",
      "Requirement already satisfied: pyasn1<0.5.0,>=0.4.6 in c:\\users\\dell\\anaconda3\\lib\\site-packages (from pyasn1-modules>=0.2.1->google-auth<3,>=1.6.3->tensorboard<2.13,>=2.12->tensorflow-intel==2.12.0->tensorflow) (0.4.8)\n",
      "Requirement already satisfied: oauthlib>=3.0.0 in c:\\users\\dell\\anaconda3\\lib\\site-packages (from requests-oauthlib>=0.7.0->google-auth-oauthlib<1.1,>=0.5->tensorboard<2.13,>=2.12->tensorflow-intel==2.12.0->tensorflow) (3.2.2)\n"
     ]
    }
   ],
   "source": [
    "!pip install numpy pandas tensorflow"
   ]
  },
  {
   "cell_type": "code",
   "execution_count": 2,
   "id": "ebd9fea8",
   "metadata": {},
   "outputs": [],
   "source": [
    "import os\n",
    "import numpy as np\n",
    "import pandas as pd \n",
    "import tensorflow as tf\n",
    "from tensorflow.keras import layers\n",
    "from tensorflow.keras.models import Sequential\n",
    "from tensorflow.keras.preprocessing.image import ImageDataGenerator"
   ]
  },
  {
   "cell_type": "code",
   "execution_count": 3,
   "id": "f55aecb1",
   "metadata": {},
   "outputs": [],
   "source": [
    "data_path=r\"C:\\Users\\DELL\\Desktop\\images\\images\""
   ]
  },
  {
   "cell_type": "code",
   "execution_count": 4,
   "id": "9d9b00a3",
   "metadata": {},
   "outputs": [
    {
     "name": "stdout",
     "output_type": "stream",
     "text": [
      "<keras.preprocessing.image.ImageDataGenerator object at 0x0000015BEF7A11C0>\n"
     ]
    }
   ],
   "source": [
    "img_height,img_width= 64,64\n",
    "datagen=ImageDataGenerator(rescale=1./225,rotation_range=20,width_shift_range=0.1,height_shift_range=0.1,horizontal_flip=True)\n",
    "print(datagen)"
   ]
  },
  {
   "cell_type": "code",
   "execution_count": 17,
   "id": "907ea666",
   "metadata": {},
   "outputs": [],
   "source": [
    "from tensorflow import keras\n",
    "from tensorflow.keras import layers\n",
    "num_classes=9\n",
    "model = keras.Sequential([\n",
    "    layers.Conv2D(32, (3, 3), activation=\"relu\", input_shape=(img_height, img_width, 3)),\n",
    "    layers.MaxPooling2D((2, 2)),\n",
    "    layers.Conv2D(64, (3, 3), activation=\"relu\"),\n",
    "    layers.MaxPooling2D((2, 2)),\n",
    "    layers.Conv2D(128, (3, 3), activation=\"relu\"),  # improiving the model complexiy upto 256 filters from 64\n",
    "    layers.MaxPooling2D((2, 2)),\n",
    "    layers.Conv2D(256, (3, 3), activation=\"relu\"),\n",
    "    layers.MaxPooling2D((2, 2)),\n",
    "    \n",
    "    \n",
    "    # Add more layers as needed\n",
    "    layers.Flatten(),\n",
    "    layers.Dense(64, activation=\"relu\"),\n",
    "    layers.Dense(num_classes, activation=\"softmax\")\n",
    "])\n"
   ]
  },
  {
   "cell_type": "code",
   "execution_count": 18,
   "id": "809b32fe",
   "metadata": {},
   "outputs": [
    {
     "name": "stdout",
     "output_type": "stream",
     "text": [
      "Found 14435 images belonging to 9 classes.\n",
      "Found 3532 images belonging to 9 classes.\n"
     ]
    }
   ],
   "source": [
    "train_generator = datagen.flow_from_directory(\n",
    "    os.path.join(data_path, \"train\"),\n",
    "    target_size=(img_height, img_width),\n",
    "    batch_size=32,\n",
    "    class_mode=\"categorical\",\n",
    "    shuffle=True\n",
    ")\n",
    "\n",
    "validation_generator = datagen.flow_from_directory(\n",
    "    os.path.join(data_path, \"validation\"),\n",
    "    target_size=(img_height, img_width),\n",
    "    batch_size=32,\n",
    "    class_mode=\"categorical\"\n",
    ")\n"
   ]
  },
  {
   "cell_type": "code",
   "execution_count": 19,
   "id": "99fb3c53",
   "metadata": {},
   "outputs": [
    {
     "name": "stdout",
     "output_type": "stream",
     "text": [
      "(None, 64, 64, 3)\n"
     ]
    }
   ],
   "source": [
    "layers=model.layers\n",
    "print(layers[0].input_shape)\n"
   ]
  },
  {
   "cell_type": "code",
   "execution_count": 12,
   "id": "212e13f8",
   "metadata": {},
   "outputs": [],
   "source": [
    "# adding the learning rate  of optomizer\n",
    "optimizer= tf.keras.optimizers.Adam(\n",
    "    learning_rate=0.001\n",
    ")"
   ]
  },
  {
   "cell_type": "code",
   "execution_count": 13,
   "id": "a0fa55a4",
   "metadata": {},
   "outputs": [],
   "source": [
    "model.compile(\n",
    "    optimizer=optimizer,\n",
    "    loss=\"categorical_crossentropy\",\n",
    "    metrics=[\"accuracy\"]\n",
    ")\n"
   ]
  },
  {
   "cell_type": "code",
   "execution_count": 14,
   "id": "3f5023ad",
   "metadata": {},
   "outputs": [],
   "source": [
    "# changing the patience from 20 to 3\n",
    "early_stopping=tf.keras.callbacks.EarlyStopping(monitor=\"val_loss\",patience=3,verbose=1,restore_best_weights=False)"
   ]
  },
  {
   "cell_type": "code",
   "execution_count": 15,
   "id": "f718b2b2",
   "metadata": {},
   "outputs": [
    {
     "name": "stdout",
     "output_type": "stream",
     "text": [
      "Epoch 1/30\n",
      "452/452 [==============================] - 98s 210ms/step - loss: 1.8078 - accuracy: 0.3171 - val_loss: 1.5851 - val_accuracy: 0.4386\n",
      "Epoch 2/30\n",
      "452/452 [==============================] - 77s 170ms/step - loss: 1.5729 - accuracy: 0.4473 - val_loss: 1.4322 - val_accuracy: 0.4793\n",
      "Epoch 3/30\n",
      "452/452 [==============================] - 72s 159ms/step - loss: 1.4918 - accuracy: 0.4724 - val_loss: 1.3640 - val_accuracy: 0.5161\n",
      "Epoch 4/30\n",
      "452/452 [==============================] - 114s 252ms/step - loss: 1.4766 - accuracy: 0.4856 - val_loss: 1.4734 - val_accuracy: 0.4929\n",
      "Epoch 5/30\n",
      "452/452 [==============================] - 127s 282ms/step - loss: 1.4963 - accuracy: 0.4777 - val_loss: 1.4650 - val_accuracy: 0.4895\n",
      "Epoch 6/30\n",
      "452/452 [==============================] - 134s 297ms/step - loss: 1.3797 - accuracy: 0.5185 - val_loss: 1.2444 - val_accuracy: 0.5713\n",
      "Epoch 7/30\n",
      "452/452 [==============================] - 121s 269ms/step - loss: 1.3155 - accuracy: 0.5407 - val_loss: 1.2296 - val_accuracy: 0.5586\n",
      "Epoch 8/30\n",
      "452/452 [==============================] - 118s 260ms/step - loss: 1.2797 - accuracy: 0.5563 - val_loss: 1.1717 - val_accuracy: 0.5852\n",
      "Epoch 9/30\n",
      "452/452 [==============================] - 118s 261ms/step - loss: 1.2500 - accuracy: 0.5659 - val_loss: 1.1417 - val_accuracy: 0.5920\n",
      "Epoch 10/30\n",
      "452/452 [==============================] - 118s 262ms/step - loss: 1.2302 - accuracy: 0.5720 - val_loss: 1.1667 - val_accuracy: 0.5912\n",
      "Epoch 11/30\n",
      "452/452 [==============================] - 116s 258ms/step - loss: 1.2037 - accuracy: 0.5817 - val_loss: 1.1664 - val_accuracy: 0.5951\n",
      "Epoch 12/30\n",
      "452/452 [==============================] - 116s 257ms/step - loss: 1.2063 - accuracy: 0.5814 - val_loss: 1.0623 - val_accuracy: 0.6379\n",
      "Epoch 13/30\n",
      "452/452 [==============================] - 119s 262ms/step - loss: 1.1627 - accuracy: 0.5936 - val_loss: 1.1112 - val_accuracy: 0.6155\n",
      "Epoch 14/30\n",
      "452/452 [==============================] - 123s 273ms/step - loss: 1.1541 - accuracy: 0.5992 - val_loss: 1.0539 - val_accuracy: 0.6243\n",
      "Epoch 15/30\n",
      "452/452 [==============================] - 120s 266ms/step - loss: 1.1365 - accuracy: 0.6017 - val_loss: 1.0309 - val_accuracy: 0.6311\n",
      "Epoch 16/30\n",
      "452/452 [==============================] - 118s 262ms/step - loss: 1.1144 - accuracy: 0.6091 - val_loss: 1.0118 - val_accuracy: 0.6421\n",
      "Epoch 17/30\n",
      "452/452 [==============================] - 119s 263ms/step - loss: 1.1111 - accuracy: 0.6141 - val_loss: 1.0247 - val_accuracy: 0.6334\n",
      "Epoch 18/30\n",
      "452/452 [==============================] - 118s 262ms/step - loss: 1.1367 - accuracy: 0.6024 - val_loss: 1.0027 - val_accuracy: 0.6447\n",
      "Epoch 19/30\n",
      "452/452 [==============================] - 117s 259ms/step - loss: 1.0948 - accuracy: 0.6209 - val_loss: 0.9769 - val_accuracy: 0.6506\n",
      "Epoch 20/30\n",
      "452/452 [==============================] - 117s 259ms/step - loss: 1.0853 - accuracy: 0.6195 - val_loss: 0.9742 - val_accuracy: 0.6552\n",
      "Epoch 21/30\n",
      "452/452 [==============================] - 125s 277ms/step - loss: 1.0722 - accuracy: 0.6307 - val_loss: 0.9804 - val_accuracy: 0.6529\n",
      "Epoch 22/30\n",
      "452/452 [==============================] - 125s 276ms/step - loss: 1.0561 - accuracy: 0.6303 - val_loss: 0.9819 - val_accuracy: 0.6566\n",
      "Epoch 23/30\n",
      "452/452 [==============================] - 122s 270ms/step - loss: 1.0524 - accuracy: 0.6352 - val_loss: 0.9697 - val_accuracy: 0.6634\n",
      "Epoch 24/30\n",
      "452/452 [==============================] - 122s 270ms/step - loss: 1.0433 - accuracy: 0.6389 - val_loss: 0.9519 - val_accuracy: 0.6619\n",
      "Epoch 25/30\n",
      "452/452 [==============================] - 125s 277ms/step - loss: 1.0326 - accuracy: 0.6363 - val_loss: 0.9780 - val_accuracy: 0.6520\n",
      "Epoch 26/30\n",
      "452/452 [==============================] - 120s 266ms/step - loss: 1.0321 - accuracy: 0.6407 - val_loss: 0.9517 - val_accuracy: 0.6685\n",
      "Epoch 27/30\n",
      "452/452 [==============================] - 122s 270ms/step - loss: 1.0185 - accuracy: 0.6481 - val_loss: 0.9557 - val_accuracy: 0.6594\n",
      "Epoch 28/30\n",
      "452/452 [==============================] - 124s 273ms/step - loss: 1.0174 - accuracy: 0.6461 - val_loss: 0.9458 - val_accuracy: 0.6690\n",
      "Epoch 29/30\n",
      "452/452 [==============================] - 121s 267ms/step - loss: 1.0103 - accuracy: 0.6422 - val_loss: 0.9401 - val_accuracy: 0.6622\n",
      "Epoch 30/30\n",
      "452/452 [==============================] - 313s 693ms/step - loss: 0.9966 - accuracy: 0.6514 - val_loss: 0.9505 - val_accuracy: 0.6662\n"
     ]
    },
    {
     "data": {
      "text/plain": [
       "<keras.callbacks.History at 0x15bf1ee8ca0>"
      ]
     },
     "execution_count": 15,
     "metadata": {},
     "output_type": "execute_result"
    }
   ],
   "source": [
    "model.fit(train_generator,epochs=30,validation_data=validation_generator,callbacks=[early_stopping])"
   ]
  },
  {
   "cell_type": "code",
   "execution_count": 16,
   "id": "679b8955",
   "metadata": {},
   "outputs": [],
   "source": [
    "model.save(\"mb2.h5\")"
   ]
  },
  {
   "cell_type": "code",
   "execution_count": null,
   "id": "24d50f3e",
   "metadata": {},
   "outputs": [],
   "source": []
  }
 ],
 "metadata": {
  "kernelspec": {
   "display_name": "Python 3 (ipykernel)",
   "language": "python",
   "name": "python3"
  },
  "language_info": {
   "codemirror_mode": {
    "name": "ipython",
    "version": 3
   },
   "file_extension": ".py",
   "mimetype": "text/x-python",
   "name": "python",
   "nbconvert_exporter": "python",
   "pygments_lexer": "ipython3",
   "version": "3.9.13"
  }
 },
 "nbformat": 4,
 "nbformat_minor": 5
}
